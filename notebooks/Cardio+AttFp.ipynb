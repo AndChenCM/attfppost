{
 "cells": [
  {
   "cell_type": "code",
   "execution_count": 2,
   "metadata": {},
   "outputs": [],
   "source": [
    "from hyperopt import fmin, hp, tpe, Trials\n",
    "import numpy as np\n",
    "\n",
    "import os\n",
    "import sys\n",
    "\n",
    "BASEDIR = os.path.dirname(os.getcwd())\n",
    "sys.path.append(BASEDIR)\n",
    "\n",
    "from copy import deepcopy\n",
    "from functools import partial\n",
    "from dgl.dataloading import GraphDataLoader\n",
    "from src.model.attentivefp import attentivefp\n",
    "from src.utils.mol.attfp_graph import MoleculeDataset, collate_fn\n",
    "from src.config.attentivefp import attentivefpArgs\n",
    "from src.pipeline.ensemble import training_ensemble_models\n",
    "from src.utils.basic.logger import Writer, NpEncoder\n",
    "from src.utils.model.metrics import accuracy, roc_auc_score, prc_auc, F1, MCC, expected_calibration_error, OverconfidentFalseRate, OverconfidentFalseNegatives, Brier\n",
    "import torch\n",
    "import pandas as pd\n",
    "import json"
   ]
  },
  {
   "cell_type": "markdown",
   "metadata": {},
   "source": [
    "# Initialize"
   ]
  },
  {
   "cell_type": "code",
   "execution_count": 3,
   "metadata": {},
   "outputs": [],
   "source": [
    "torch.set_num_threads(4)\n",
    "\n",
    "target_name = 'CardioTox'\n",
    "gpu_num     = 0\n",
    "\n",
    "# Bayesian optimization searching space\n",
    "\n",
    "SPACE = {\n",
    "    'hidden_size'       : hp.quniform('hidden_size', low=300, high=600, q=100),\n",
    "    'radius'            : hp.quniform('radius', low=2, high=6, q=1),\n",
    "    'T'                 : hp.quniform('T', low=1, high=5, q=1),\n",
    "    'p_dropout'         : hp.quniform('dropout', low=0.0, high=0.5, q=0.05),\n",
    "    'init_lr'           : hp.loguniform('init_lr', low=np.log(1e-4), high=np.log(1e-2)),\n",
    "    'ffn_num_layers'    : hp.quniform('ffn_num_layers', low=2, high=4, q=1)\n",
    "}\n",
    "\n",
    "INT_KEYS = ['hidden_size', 'radius', 'T', 'ffn_num_layers']\n",
    "SAVEDIR = os.path.join(BASEDIR, \"results\", target_name, 'AttFp')\n",
    "DATADIR = os.path.join(BASEDIR, \"data\", target_name)"
   ]
  },
  {
   "cell_type": "markdown",
   "metadata": {},
   "source": [
    "# Training function"
   ]
  },
  {
   "cell_type": "code",
   "execution_count": 5,
   "metadata": {},
   "outputs": [
    {
     "name": "stdout",
     "output_type": "stream",
     "text": [
      "  0%|          | 0/3 [00:00<?, ?trial/s, best loss=?]07-14 09:05:12\t \n",
      "07-14 09:05:12\t \n",
      "07-14 09:05:12\tROUND 1\n",
      "07-14 09:05:12\tT\t5.0\n",
      "07-14 09:05:12\tffn_num_layers\t4.0\n",
      "07-14 09:05:12\thidden_size\t400.0\n",
      "07-14 09:05:12\tinit_lr\t0.0006061632142200683\n",
      "07-14 09:05:12\tp_dropout\t0.05\n",
      "07-14 09:05:12\tradius\t5.0\n",
      "{'T': 5,                                             \n",
      " 'activation': 'ReLU',\n",
      " 'aggregation': 'mean',\n",
      " 'aggregation_norm': 100,\n",
      " 'at_least_epoch': 0,\n",
      " 'atom_descriptors': None,\n",
      " 'atom_descriptors_size': None,\n",
      " 'atom_messages': False,\n",
      " 'batch_size': 128,\n",
      " 'bias': False,\n",
      " 'cuda': True,\n",
      " 'dataset_type': 'classification',\n",
      " 'depth': 3,\n",
      " 'device': device(type='cuda', index=0),\n",
      " 'dropout': 0.0,\n",
      " 'early_stopping_num': 30,\n",
      " 'empty_cache': False,\n",
      " 'explicit_h': False,\n",
      " 'extra_metrics': ['MCC', 'prc-auc', 'accuracy', 'F1'],\n",
      " 'features_only': False,\n",
      " 'features_size': None,\n",
      " 'ffn_hidden_size': 400,\n",
      " 'ffn_num_layers': 4,\n",
      " 'fingerprint_dim': 200,\n",
      " 'gpu': 0,\n",
      " 'grad_clip': None,\n",
      " 'hidden_size': 400,\n",
      " 'init_lr': 0.0006061632142200683,\n",
      " 'input_feature_dim': 200,\n",
      " 'log_frequency': 100,\n",
      " 'loss_func': BCEWithLogitsLoss(),\n",
      " 'metric': 'roc-auc',\n",
      " 'metrics': ['roc-auc', 'MCC', 'prc-auc', 'accuracy', 'F1'],\n",
      " 'minimize_score': False,\n",
      " 'mpn_shared': False,\n",
      " 'multiclass_num_classes': 3,\n",
      " 'mve': False,\n",
      " 'no_cache_mol': False,\n",
      " 'no_cuda': False,\n",
      " 'num_tasks': 1,\n",
      " 'number_of_molecules': 1,\n",
      " 'p_dropout': 0.05,\n",
      " 'pytorch_seed': 0,\n",
      " 'quiet': False,\n",
      " 'radius': 5,\n",
      " 'reaction': False,\n",
      " 'reaction_mode': 'reac_diff',\n",
      " 'task_names': ['property'],\n",
      " 'train_mean': 0,\n",
      " 'train_std': 1,\n",
      " 'undirected': False,\n",
      " 'use_input_features': False}\n",
      "  0%|          | 0/3 [00:00<?, ?trial/s, best loss=?]"
     ]
    },
    {
     "name": "stderr",
     "output_type": "stream",
     "text": [
      "07-14 09:05:12\t \n",
      "07-14 09:05:12\t \n",
      "07-14 09:05:12\tROUND 1\n",
      "07-14 09:05:12\tT\t5.0\n",
      "07-14 09:05:12\tffn_num_layers\t4.0\n",
      "07-14 09:05:12\thidden_size\t400.0\n",
      "07-14 09:05:12\tinit_lr\t0.0006061632142200683\n",
      "07-14 09:05:12\tp_dropout\t0.05\n",
      "07-14 09:05:12\tradius\t5.0\n",
      "0it [00:00, ?it/s]\n",
      "30it [00:00, 296.85it/s]\n",
      "72it [00:00, 364.56it/s]\n",
      "111it [00:00, 367.56it/s]\n",
      "155it [00:00, 395.39it/s]\n",
      "198it [00:00, 404.84it/s]\n",
      "243it [00:00, 418.20it/s]\n",
      "285it [00:00, 417.40it/s]\n",
      "327it [00:00, 376.62it/s]\n",
      "369it [00:00, 388.10it/s]\n",
      "410it [00:01, 392.03it/s]\n",
      "450it [00:01, 345.93it/s]\n",
      "494it [00:01, 369.53it/s]\n",
      "538it [00:01, 387.28it/s]\n",
      "579it [00:01, 392.39it/s]\n",
      "619it [00:01, 386.24it/s]\n",
      "659it [00:01, 354.65it/s]\n",
      "696it [00:01, 344.62it/s]\n",
      "740it [00:01, 368.98it/s]\n",
      "782it [00:02, 379.59it/s]\n",
      "821it [00:02, 350.31it/s]\n",
      "862it [00:02, 365.24it/s]\n",
      "908it [00:02, 391.12it/s]\n",
      "949it [00:02, 396.05it/s]\n",
      "990it [00:02, 355.71it/s]\n",
      "1027it [00:02, 359.53it/s]\n",
      "1069it [00:02, 374.29it/s]\n",
      "1108it [00:02, 334.78it/s]\n",
      "1146it [00:03, 345.68it/s]\n",
      "1186it [00:03, 359.68it/s]\n",
      "1228it [00:03, 376.25it/s]\n",
      "1273it [00:03, 396.94it/s]\n",
      "1317it [00:03, 408.33it/s]\n",
      "1359it [00:03, 405.78it/s]\n",
      "1401it [00:03, 409.27it/s]\n",
      "1443it [00:03, 389.05it/s]\n",
      "1483it [00:03, 390.00it/s]\n",
      "1535it [00:04, 424.40it/s]\n",
      "1587it [00:04, 451.68it/s]\n",
      "1634it [00:04, 455.45it/s]\n",
      "1681it [00:04, 459.26it/s]\n",
      "1728it [00:04, 398.31it/s]\n",
      "1770it [00:04, 402.89it/s]\n",
      "1812it [00:04, 404.84it/s]\n",
      "1854it [00:04, 407.66it/s]\n",
      "1897it [00:04, 412.00it/s]\n",
      "1939it [00:05, 358.08it/s]\n",
      "1980it [00:05, 371.02it/s]\n",
      "2019it [00:05, 346.38it/s]\n",
      "2063it [00:05, 367.94it/s]\n",
      "2103it [00:05, 373.83it/s]\n",
      "2142it [00:05, 359.02it/s]\n",
      "2192it [00:05, 396.16it/s]\n",
      "2241it [00:05, 420.66it/s]\n",
      "2284it [00:05, 399.43it/s]\n",
      "2334it [00:06, 426.97it/s]\n",
      "2382it [00:06, 440.21it/s]\n",
      "2430it [00:06, 449.67it/s]\n",
      "2479it [00:06, 459.74it/s]\n",
      "2529it [00:06, 471.46it/s]\n",
      "2580it [00:06, 482.57it/s]\n",
      "2632it [00:06, 492.70it/s]\n",
      "2682it [00:06, 471.66it/s]\n",
      "2730it [00:06, 445.94it/s]\n",
      "2778it [00:06, 454.55it/s]\n",
      "2826it [00:07, 460.61it/s]\n",
      "2876it [00:07, 469.96it/s]\n",
      "2927it [00:07, 480.81it/s]\n",
      "2978it [00:07, 487.66it/s]\n",
      "3028it [00:07, 488.46it/s]\n",
      "3078it [00:07, 489.89it/s]\n",
      "3128it [00:07, 486.12it/s]\n",
      "3177it [00:07, 483.46it/s]\n",
      "3227it [00:07, 486.39it/s]\n",
      "3276it [00:07, 486.39it/s]\n",
      "3327it [00:08, 491.97it/s]\n",
      "3379it [00:08, 497.12it/s]\n",
      "3429it [00:08, 492.32it/s]\n",
      "3479it [00:08, 486.66it/s]\n",
      "3528it [00:08, 484.72it/s]\n",
      "3577it [00:08, 478.49it/s]\n",
      "3625it [00:08, 434.90it/s]\n",
      "3670it [00:08, 429.25it/s]\n",
      "3714it [00:08, 418.53it/s]\n",
      "3757it [00:09, 412.72it/s]\n",
      "3800it [00:09, 415.33it/s]\n",
      "3842it [00:09, 405.74it/s]\n",
      "3884it [00:09, 407.54it/s]\n",
      "3927it [00:09, 413.67it/s]\n",
      "3970it [00:09, 416.09it/s]\n",
      "4014it [00:09, 420.44it/s]\n",
      "4057it [00:09, 417.98it/s]\n",
      "4099it [00:09, 417.42it/s]\n",
      "4141it [00:10, 363.38it/s]\n",
      "4183it [00:10, 377.52it/s]\n",
      "4225it [00:10, 386.62it/s]\n",
      "4266it [00:10, 392.12it/s]\n",
      "4310it [00:10, 402.83it/s]\n",
      "4352it [00:10, 404.40it/s]\n",
      "4395it [00:10, 409.19it/s]\n",
      "4438it [00:10, 412.03it/s]\n",
      "4480it [00:10, 412.10it/s]\n",
      "4523it [00:10, 416.47it/s]\n",
      "4566it [00:11, 419.43it/s]\n",
      "4610it [00:11, 424.06it/s]\n",
      "4654it [00:11, 427.79it/s]\n",
      "4697it [00:11, 424.97it/s]\n",
      "4740it [00:11, 374.37it/s]\n",
      "4780it [00:11, 379.32it/s]\n",
      "4824it [00:11, 394.77it/s]\n",
      "4865it [00:11, 394.48it/s]\n",
      "4905it [00:11, 380.40it/s]\n",
      "4944it [00:12, 357.57it/s]\n",
      "4987it [00:12, 377.31it/s]\n",
      "5030it [00:12, 391.43it/s]\n",
      "5075it [00:12, 404.93it/s]\n",
      "5117it [00:12, 407.95it/s]\n",
      "5163it [00:12, 420.79it/s]\n",
      "5211it [00:12, 436.72it/s]\n",
      "5258it [00:12, 444.59it/s]\n",
      "5306it [00:12, 453.06it/s]\n",
      "5352it [00:13, 248.66it/s]\n",
      "5396it [00:13, 283.23it/s]\n",
      "5442it [00:13, 320.21it/s]\n",
      "5490it [00:13, 355.81it/s]\n",
      "5539it [00:13, 388.41it/s]\n",
      "5588it [00:13, 414.59it/s]\n",
      "5636it [00:13, 431.07it/s]\n",
      "5683it [00:13, 436.91it/s]\n",
      "5731it [00:14, 446.50it/s]\n",
      "5779it [00:14, 455.37it/s]\n",
      "5826it [00:14, 453.33it/s]\n",
      "5877it [00:14, 469.00it/s]\n",
      "5926it [00:14, 473.63it/s]\n",
      "5974it [00:14, 472.33it/s]\n",
      "6024it [00:14, 477.61it/s]\n",
      "6072it [00:14, 474.97it/s]\n",
      "6121it [00:14, 478.66it/s]\n",
      "6172it [00:14, 485.15it/s]\n",
      "6221it [00:15, 480.16it/s]\n",
      "6270it [00:15, 468.54it/s]\n",
      "6320it [00:15, 476.57it/s]\n",
      "6368it [00:15, 476.41it/s]\n",
      "6418it [00:15, 483.12it/s]\n",
      "6468it [00:15, 487.08it/s]\n",
      "6514it [00:15, 415.00it/s]\n",
      "0it [00:00, ?it/s]\n",
      "52it [00:00, 514.62it/s]\n",
      "104it [00:00, 501.72it/s]\n",
      "155it [00:00, 484.20it/s]\n",
      "204it [00:00, 477.74it/s]\n",
      "253it [00:00, 479.95it/s]\n",
      "302it [00:00, 464.29it/s]\n",
      "349it [00:00, 409.78it/s]\n",
      "399it [00:00, 432.66it/s]\n",
      "448it [00:00, 448.92it/s]\n",
      "498it [00:01, 462.62it/s]\n",
      "546it [00:01, 464.69it/s]\n",
      "593it [00:01, 463.53it/s]\n",
      "643it [00:01, 473.02it/s]\n",
      "691it [00:01, 416.18it/s]\n",
      "739it [00:01, 431.68it/s]\n",
      "784it [00:01, 435.64it/s]\n",
      "832it [00:01, 447.03it/s]\n",
      "880it [00:01, 454.85it/s]\n",
      "930it [00:02, 467.44it/s]\n",
      "978it [00:02, 470.66it/s]\n",
      "1026it [00:02, 447.30it/s]\n",
      "1072it [00:02, 430.80it/s]\n",
      "1123it [00:02, 450.72it/s]\n",
      "1172it [00:02, 460.55it/s]\n",
      "1221it [00:02, 468.44it/s]\n",
      "1271it [00:02, 474.42it/s]\n",
      "1319it [00:02, 468.69it/s]\n",
      "1370it [00:02, 478.81it/s]\n",
      "1419it [00:03, 481.44it/s]\n",
      "1471it [00:03, 490.30it/s]\n",
      "1521it [00:03, 491.90it/s]\n",
      "1571it [00:03, 453.74it/s]\n",
      "1617it [00:03, 449.17it/s]\n",
      "1630it [00:03, 457.69it/s]\n",
      "0it [00:00, ?it/s]\n",
      "41it [00:00, 404.26it/s]\n",
      "82it [00:00, 389.43it/s]\n",
      "122it [00:00, 391.37it/s]\n",
      "162it [00:00, 385.76it/s]\n",
      "201it [00:00, 382.41it/s]\n",
      "240it [00:00, 377.60it/s]\n",
      "278it [00:00, 369.41it/s]\n",
      "317it [00:00, 375.62it/s]\n",
      "358it [00:00, 385.35it/s]\n",
      "397it [00:01, 385.54it/s]\n",
      "436it [00:01, 342.46it/s]\n",
      "472it [00:01, 330.30it/s]\n",
      "511it [00:01, 344.99it/s]\n",
      "551it [00:01, 359.54it/s]\n",
      "590it [00:01, 364.46it/s]\n",
      "627it [00:01, 365.87it/s]\n",
      "664it [00:01, 345.38it/s]\n",
      "703it [00:01, 355.51it/s]\n",
      "742it [00:02, 364.84it/s]\n",
      "779it [00:02, 366.05it/s]\n",
      "818it [00:02, 372.22it/s]\n",
      "837it [00:02, 367.20it/s]\n"
     ]
    },
    {
     "name": "stdout",
     "output_type": "stream",
     "text": [
      "07-14 09:05:34\tTraining 0th model.\n"
     ]
    },
    {
     "name": "stderr",
     "output_type": "stream",
     "text": [
      "07-14 09:05:34\tTraining 0th model.\n"
     ]
    },
    {
     "name": "stdout",
     "output_type": "stream",
     "text": [
      "07-14 09:05:44\t\n",
      "07-14 09:05:44\tStart Evaluating on Evaluation Set, EPOCH 2 BATCH 100\n"
     ]
    },
    {
     "name": "stderr",
     "output_type": "stream",
     "text": [
      "07-14 09:05:44\t\n",
      "07-14 09:05:44\tStart Evaluating on Evaluation Set, EPOCH 2 BATCH 100\n",
      "  0%|          | 0/13 [00:00<?, ?it/s]\n",
      " 15%|#5        | 2/13 [00:00<00:00, 18.45it/s]\n",
      " 31%|###       | 4/13 [00:00<00:00, 19.10it/s]\n",
      " 54%|#####3    | 7/13 [00:00<00:00, 20.46it/s]\n",
      " 77%|#######6  | 10/13 [00:00<00:00, 20.24it/s]\n",
      "100%|##########| 13/13 [00:00<00:00, 21.09it/s]\n",
      "100%|##########| 13/13 [00:00<00:00, 20.48it/s]\n"
     ]
    },
    {
     "name": "stdout",
     "output_type": "stream",
     "text": [
      "07-14 09:05:44\troc-auc: 0.847\n",
      "07-14 09:05:44\tMCC: 0.438\n",
      "07-14 09:05:44\tprc-auc: 0.667\n",
      "07-14 09:05:44\taccuracy: 0.796\n",
      "07-14 09:05:44\tF1: 0.544\n"
     ]
    },
    {
     "name": "stderr",
     "output_type": "stream",
     "text": [
      "07-14 09:05:44\troc-auc: 0.847\n",
      "07-14 09:05:44\tMCC: 0.438\n",
      "07-14 09:05:44\tprc-auc: 0.667\n",
      "07-14 09:05:44\taccuracy: 0.796\n",
      "07-14 09:05:44\tF1: 0.544\n"
     ]
    },
    {
     "name": "stdout",
     "output_type": "stream",
     "text": [
      "07-14 09:05:54\t\n",
      "07-14 09:05:54\tStart Evaluating on Evaluation Set, EPOCH 4 BATCH 200\n"
     ]
    },
    {
     "name": "stderr",
     "output_type": "stream",
     "text": [
      "07-14 09:05:54\t\n",
      "07-14 09:05:54\tStart Evaluating on Evaluation Set, EPOCH 4 BATCH 200\n",
      "  0%|          | 0/13 [00:00<?, ?it/s]\n",
      " 23%|##3       | 3/13 [00:00<00:00, 20.98it/s]\n",
      " 46%|####6     | 6/13 [00:00<00:00, 22.45it/s]\n",
      " 69%|######9   | 9/13 [00:00<00:00, 22.10it/s]\n",
      " 92%|#########2| 12/13 [00:00<00:00, 22.43it/s]\n",
      "100%|##########| 13/13 [00:00<00:00, 22.35it/s]\n"
     ]
    },
    {
     "name": "stdout",
     "output_type": "stream",
     "text": [
      "07-14 09:05:54\troc-auc: 0.874\n",
      "07-14 09:05:54\tMCC: 0.465\n",
      "07-14 09:05:54\tprc-auc: 0.710\n",
      "07-14 09:05:54\taccuracy: 0.806\n",
      "07-14 09:05:54\tF1: 0.565\n"
     ]
    },
    {
     "name": "stderr",
     "output_type": "stream",
     "text": [
      "07-14 09:05:54\troc-auc: 0.874\n",
      "07-14 09:05:54\tMCC: 0.465\n",
      "07-14 09:05:54\tprc-auc: 0.710\n",
      "07-14 09:05:54\taccuracy: 0.806\n",
      "07-14 09:05:54\tF1: 0.565\n"
     ]
    },
    {
     "name": "stdout",
     "output_type": "stream",
     "text": [
      "07-14 09:06:04\t\n",
      "07-14 09:06:04\tStart Evaluating on Evaluation Set, EPOCH 6 BATCH 300\n"
     ]
    },
    {
     "name": "stderr",
     "output_type": "stream",
     "text": [
      "07-14 09:06:04\t\n",
      "07-14 09:06:04\tStart Evaluating on Evaluation Set, EPOCH 6 BATCH 300\n",
      "  0%|          | 0/13 [00:00<?, ?it/s]\n",
      " 23%|##3       | 3/13 [00:00<00:00, 20.75it/s]\n",
      " 46%|####6     | 6/13 [00:00<00:00, 23.39it/s]\n",
      " 69%|######9   | 9/13 [00:00<00:00, 22.45it/s]\n",
      " 92%|#########2| 12/13 [00:00<00:00, 23.07it/s]\n",
      "100%|##########| 13/13 [00:00<00:00, 22.85it/s]\n"
     ]
    },
    {
     "name": "stdout",
     "output_type": "stream",
     "text": [
      "07-14 09:06:05\troc-auc: 0.883\n",
      "07-14 09:06:05\tMCC: 0.501\n",
      "07-14 09:06:05\tprc-auc: 0.739\n",
      "07-14 09:06:05\taccuracy: 0.817\n",
      "07-14 09:06:05\tF1: 0.595\n"
     ]
    },
    {
     "name": "stderr",
     "output_type": "stream",
     "text": [
      "07-14 09:06:05\troc-auc: 0.883\n",
      "07-14 09:06:05\tMCC: 0.501\n",
      "07-14 09:06:05\tprc-auc: 0.739\n",
      "07-14 09:06:05\taccuracy: 0.817\n",
      "07-14 09:06:05\tF1: 0.595\n"
     ]
    },
    {
     "name": "stdout",
     "output_type": "stream",
     "text": [
      "07-14 09:06:14\t\n",
      "07-14 09:06:14\tStart Evaluating on Evaluation Set, EPOCH 8 BATCH 400\n"
     ]
    },
    {
     "name": "stderr",
     "output_type": "stream",
     "text": [
      "07-14 09:06:14\t\n",
      "07-14 09:06:14\tStart Evaluating on Evaluation Set, EPOCH 8 BATCH 400\n",
      "  0%|          | 0/13 [00:00<?, ?it/s]\n",
      " 23%|##3       | 3/13 [00:00<00:00, 21.13it/s]\n",
      " 46%|####6     | 6/13 [00:00<00:00, 22.21it/s]\n",
      " 69%|######9   | 9/13 [00:00<00:00, 21.71it/s]\n",
      " 92%|#########2| 12/13 [00:00<00:00, 22.73it/s]\n",
      "100%|##########| 13/13 [00:00<00:00, 22.12it/s]\n"
     ]
    },
    {
     "name": "stdout",
     "output_type": "stream",
     "text": [
      "07-14 09:06:15\troc-auc: 0.891\n",
      "07-14 09:06:15\tMCC: 0.555\n",
      "07-14 09:06:15\tprc-auc: 0.758\n",
      "07-14 09:06:15\taccuracy: 0.830\n",
      "07-14 09:06:15\tF1: 0.665\n"
     ]
    },
    {
     "name": "stderr",
     "output_type": "stream",
     "text": [
      "07-14 09:06:15\troc-auc: 0.891\n",
      "07-14 09:06:15\tMCC: 0.555\n",
      "07-14 09:06:15\tprc-auc: 0.758\n",
      "07-14 09:06:15\taccuracy: 0.830\n",
      "07-14 09:06:15\tF1: 0.665\n"
     ]
    },
    {
     "name": "stdout",
     "output_type": "stream",
     "text": [
      "07-14 09:06:25\t\n",
      "07-14 09:06:25\tStart Evaluating on Evaluation Set, EPOCH 10 BATCH 500\n"
     ]
    },
    {
     "name": "stderr",
     "output_type": "stream",
     "text": [
      "07-14 09:06:25\t\n",
      "07-14 09:06:25\tStart Evaluating on Evaluation Set, EPOCH 10 BATCH 500\n",
      "  0%|          | 0/13 [00:00<?, ?it/s]\n",
      " 23%|##3       | 3/13 [00:00<00:00, 22.12it/s]\n",
      " 46%|####6     | 6/13 [00:00<00:00, 22.09it/s]\n",
      " 69%|######9   | 9/13 [00:00<00:00, 22.08it/s]\n",
      " 92%|#########2| 12/13 [00:00<00:00, 22.65it/s]\n",
      "100%|##########| 13/13 [00:00<00:00, 22.41it/s]\n"
     ]
    },
    {
     "name": "stdout",
     "output_type": "stream",
     "text": [
      "07-14 09:06:25\troc-auc: 0.897\n",
      "07-14 09:06:25\tMCC: 0.601\n",
      "07-14 09:06:25\tprc-auc: 0.774\n",
      "07-14 09:06:25\taccuracy: 0.850\n",
      "07-14 09:06:25\tF1: 0.692\n"
     ]
    },
    {
     "name": "stderr",
     "output_type": "stream",
     "text": [
      "07-14 09:06:25\troc-auc: 0.897\n",
      "07-14 09:06:25\tMCC: 0.601\n",
      "07-14 09:06:25\tprc-auc: 0.774\n",
      "07-14 09:06:25\taccuracy: 0.850\n",
      "07-14 09:06:25\tF1: 0.692\n"
     ]
    },
    {
     "name": "stdout",
     "output_type": "stream",
     "text": [
      "07-14 09:06:35\t\n",
      "07-14 09:06:35\tStart Evaluating on Evaluation Set, EPOCH 12 BATCH 600\n"
     ]
    },
    {
     "name": "stderr",
     "output_type": "stream",
     "text": [
      "07-14 09:06:35\t\n",
      "07-14 09:06:35\tStart Evaluating on Evaluation Set, EPOCH 12 BATCH 600\n",
      "  0%|          | 0/13 [00:00<?, ?it/s]\n",
      " 23%|##3       | 3/13 [00:00<00:00, 20.62it/s]\n",
      " 46%|####6     | 6/13 [00:00<00:00, 20.75it/s]\n",
      " 69%|######9   | 9/13 [00:00<00:00, 21.62it/s]\n",
      " 92%|#########2| 12/13 [00:00<00:00, 21.65it/s]\n",
      "100%|##########| 13/13 [00:00<00:00, 21.40it/s]\n"
     ]
    },
    {
     "name": "stdout",
     "output_type": "stream",
     "text": [
      "07-14 09:06:35\troc-auc: 0.906\n",
      "07-14 09:06:35\tMCC: 0.613\n",
      "07-14 09:06:35\tprc-auc: 0.799\n",
      "07-14 09:06:35\taccuracy: 0.853\n",
      "07-14 09:06:35\tF1: 0.707\n"
     ]
    },
    {
     "name": "stderr",
     "output_type": "stream",
     "text": [
      "07-14 09:06:35\troc-auc: 0.906\n",
      "07-14 09:06:35\tMCC: 0.613\n",
      "07-14 09:06:35\tprc-auc: 0.799\n",
      "07-14 09:06:35\taccuracy: 0.853\n",
      "07-14 09:06:35\tF1: 0.707\n"
     ]
    },
    {
     "name": "stdout",
     "output_type": "stream",
     "text": [
      "07-14 09:06:45\t\n",
      "07-14 09:06:45\tStart Evaluating on Evaluation Set, EPOCH 14 BATCH 700\n"
     ]
    },
    {
     "name": "stderr",
     "output_type": "stream",
     "text": [
      "07-14 09:06:45\t\n",
      "07-14 09:06:45\tStart Evaluating on Evaluation Set, EPOCH 14 BATCH 700\n",
      "  0%|          | 0/13 [00:00<?, ?it/s]\n",
      " 23%|##3       | 3/13 [00:00<00:00, 22.92it/s]\n",
      " 46%|####6     | 6/13 [00:00<00:00, 21.30it/s]\n",
      " 69%|######9   | 9/13 [00:00<00:00, 22.45it/s]\n",
      " 92%|#########2| 12/13 [00:00<00:00, 22.71it/s]\n",
      "100%|##########| 13/13 [00:00<00:00, 22.30it/s]\n"
     ]
    },
    {
     "name": "stdout",
     "output_type": "stream",
     "text": [
      "07-14 09:06:46\troc-auc: 0.912\n",
      "07-14 09:06:46\tMCC: 0.640\n",
      "07-14 09:06:46\tprc-auc: 0.807\n",
      "07-14 09:06:46\taccuracy: 0.864\n",
      "07-14 09:06:46\tF1: 0.723\n"
     ]
    },
    {
     "name": "stderr",
     "output_type": "stream",
     "text": [
      "07-14 09:06:46\troc-auc: 0.912\n",
      "07-14 09:06:46\tMCC: 0.640\n",
      "07-14 09:06:46\tprc-auc: 0.807\n",
      "07-14 09:06:46\taccuracy: 0.864\n",
      "07-14 09:06:46\tF1: 0.723\n"
     ]
    },
    {
     "name": "stdout",
     "output_type": "stream",
     "text": [
      "07-14 09:06:55\t\n",
      "07-14 09:06:55\tStart Evaluating on Evaluation Set, EPOCH 16 BATCH 800\n"
     ]
    },
    {
     "name": "stderr",
     "output_type": "stream",
     "text": [
      "07-14 09:06:55\t\n",
      "07-14 09:06:55\tStart Evaluating on Evaluation Set, EPOCH 16 BATCH 800\n",
      "  0%|          | 0/13 [00:00<?, ?it/s]\n",
      " 23%|##3       | 3/13 [00:00<00:00, 22.66it/s]\n",
      " 46%|####6     | 6/13 [00:00<00:00, 22.05it/s]\n",
      " 69%|######9   | 9/13 [00:00<00:00, 23.05it/s]\n",
      " 92%|#########2| 12/13 [00:00<00:00, 22.50it/s]\n",
      "100%|##########| 13/13 [00:00<00:00, 22.42it/s]\n"
     ]
    },
    {
     "name": "stdout",
     "output_type": "stream",
     "text": [
      "07-14 09:06:56\troc-auc: 0.915\n"
     ]
    },
    {
     "name": "stderr",
     "output_type": "stream",
     "text": [
      "07-14 09:06:56\troc-auc: 0.915\n"
     ]
    },
    {
     "name": "stdout",
     "output_type": "stream",
     "text": [
      "07-14 09:06:56\tMCC: 0.639\n"
     ]
    },
    {
     "name": "stderr",
     "output_type": "stream",
     "text": [
      "07-14 09:06:56\tMCC: 0.639\n"
     ]
    },
    {
     "name": "stdout",
     "output_type": "stream",
     "text": [
      "07-14 09:06:56\tprc-auc: 0.817\n",
      "07-14 09:06:56\taccuracy: 0.864\n",
      "07-14 09:06:56\tF1: 0.707\n"
     ]
    },
    {
     "name": "stderr",
     "output_type": "stream",
     "text": [
      "07-14 09:06:56\tprc-auc: 0.817\n",
      "07-14 09:06:56\taccuracy: 0.864\n",
      "07-14 09:06:56\tF1: 0.707\n"
     ]
    },
    {
     "name": "stdout",
     "output_type": "stream",
     "text": [
      "07-14 09:07:06\t\n",
      "07-14 09:07:06\tStart Evaluating on Evaluation Set, EPOCH 18 BATCH 900\n"
     ]
    },
    {
     "name": "stderr",
     "output_type": "stream",
     "text": [
      "07-14 09:07:06\t\n",
      "07-14 09:07:06\tStart Evaluating on Evaluation Set, EPOCH 18 BATCH 900\n",
      "  0%|          | 0/13 [00:00<?, ?it/s]\n",
      " 23%|##3       | 3/13 [00:00<00:00, 20.31it/s]\n",
      " 46%|####6     | 6/13 [00:00<00:00, 20.64it/s]\n",
      " 69%|######9   | 9/13 [00:00<00:00, 21.78it/s]\n",
      " 92%|#########2| 12/13 [00:00<00:00, 10.18it/s]\n",
      "100%|##########| 13/13 [00:00<00:00, 13.00it/s]\n"
     ]
    },
    {
     "name": "stdout",
     "output_type": "stream",
     "text": [
      "07-14 09:07:07\troc-auc: 0.920\n",
      "07-14 09:07:07\tMCC: 0.659\n",
      "07-14 09:07:07\tprc-auc: 0.839\n",
      "07-14 09:07:07\taccuracy: 0.869\n",
      "07-14 09:07:07\tF1: 0.744\n"
     ]
    },
    {
     "name": "stderr",
     "output_type": "stream",
     "text": [
      "07-14 09:07:07\troc-auc: 0.920\n",
      "07-14 09:07:07\tMCC: 0.659\n",
      "07-14 09:07:07\tprc-auc: 0.839\n",
      "07-14 09:07:07\taccuracy: 0.869\n",
      "07-14 09:07:07\tF1: 0.744\n"
     ]
    },
    {
     "name": "stdout",
     "output_type": "stream",
     "text": [
      "07-14 09:07:17\t\n",
      "07-14 09:07:17\tStart Evaluating on Evaluation Set, EPOCH 20 BATCH 1000\n"
     ]
    },
    {
     "name": "stderr",
     "output_type": "stream",
     "text": [
      "07-14 09:07:17\t\n",
      "07-14 09:07:17\tStart Evaluating on Evaluation Set, EPOCH 20 BATCH 1000\n",
      "  0%|          | 0/13 [00:00<?, ?it/s]\n",
      " 23%|##3       | 3/13 [00:00<00:00, 21.80it/s]\n",
      " 46%|####6     | 6/13 [00:00<00:00, 20.97it/s]\n",
      " 69%|######9   | 9/13 [00:00<00:00, 22.91it/s]\n",
      " 92%|#########2| 12/13 [00:00<00:00, 22.20it/s]\n",
      "100%|##########| 13/13 [00:00<00:00, 22.19it/s]\n"
     ]
    },
    {
     "name": "stdout",
     "output_type": "stream",
     "text": [
      "07-14 09:07:17\troc-auc: 0.920\n",
      "07-14 09:07:17\tMCC: 0.686\n",
      "07-14 09:07:17\tprc-auc: 0.839\n",
      "07-14 09:07:17\taccuracy: 0.877\n",
      "07-14 09:07:17\tF1: 0.770\n"
     ]
    },
    {
     "name": "stderr",
     "output_type": "stream",
     "text": [
      "07-14 09:07:17\troc-auc: 0.920\n",
      "07-14 09:07:17\tMCC: 0.686\n",
      "07-14 09:07:17\tprc-auc: 0.839\n",
      "07-14 09:07:17\taccuracy: 0.877\n",
      "07-14 09:07:17\tF1: 0.770\n"
     ]
    },
    {
     "name": "stdout",
     "output_type": "stream",
     "text": [
      "07-14 09:07:17\tModel not improve for 1 Epochs.\n",
      "07-14 09:07:17\tBest roc-auc Now: 0.920\n"
     ]
    },
    {
     "name": "stderr",
     "output_type": "stream",
     "text": [
      "07-14 09:07:17\tModel not improve for 1 Epochs.\n",
      "07-14 09:07:17\tBest roc-auc Now: 0.920\n"
     ]
    },
    {
     "name": "stdout",
     "output_type": "stream",
     "text": [
      "07-14 09:07:27\t\n",
      "07-14 09:07:27\tStart Evaluating on Evaluation Set, EPOCH 22 BATCH 1100\n"
     ]
    },
    {
     "name": "stderr",
     "output_type": "stream",
     "text": [
      "07-14 09:07:27\t\n",
      "07-14 09:07:27\tStart Evaluating on Evaluation Set, EPOCH 22 BATCH 1100\n",
      "  0%|          | 0/13 [00:00<?, ?it/s]\n",
      " 23%|##3       | 3/13 [00:00<00:00, 21.17it/s]\n",
      " 46%|####6     | 6/13 [00:00<00:00, 23.26it/s]\n",
      " 69%|######9   | 9/13 [00:00<00:00, 22.36it/s]\n",
      " 92%|#########2| 12/13 [00:00<00:00, 23.11it/s]\n",
      "100%|##########| 13/13 [00:00<00:00, 22.85it/s]\n"
     ]
    },
    {
     "name": "stdout",
     "output_type": "stream",
     "text": [
      "07-14 09:07:27\troc-auc: 0.914\n",
      "07-14 09:07:27\tMCC: 0.658\n",
      "07-14 09:07:27\tprc-auc: 0.833\n",
      "07-14 09:07:27\taccuracy: 0.871\n",
      "07-14 09:07:27\tF1: 0.725\n",
      "07-14 09:07:27\tModel not improve for 2 Epochs.\n",
      "07-14 09:07:27\tBest roc-auc Now: 0.920\n"
     ]
    },
    {
     "name": "stderr",
     "output_type": "stream",
     "text": [
      "07-14 09:07:27\troc-auc: 0.914\n",
      "07-14 09:07:27\tMCC: 0.658\n",
      "07-14 09:07:27\tprc-auc: 0.833\n",
      "07-14 09:07:27\taccuracy: 0.871\n",
      "07-14 09:07:27\tF1: 0.725\n",
      "07-14 09:07:27\tModel not improve for 2 Epochs.\n",
      "07-14 09:07:27\tBest roc-auc Now: 0.920\n"
     ]
    },
    {
     "name": "stdout",
     "output_type": "stream",
     "text": [
      "07-14 09:07:36\t\n",
      "07-14 09:07:36\tStart Evaluating on Evaluation Set, EPOCH 24 BATCH 1200\n"
     ]
    },
    {
     "name": "stderr",
     "output_type": "stream",
     "text": [
      "07-14 09:07:36\t\n",
      "07-14 09:07:36\tStart Evaluating on Evaluation Set, EPOCH 24 BATCH 1200\n",
      "  0%|          | 0/13 [00:00<?, ?it/s]\n",
      " 23%|##3       | 3/13 [00:00<00:00, 20.56it/s]\n",
      " 46%|####6     | 6/13 [00:00<00:00, 22.69it/s]\n",
      " 69%|######9   | 9/13 [00:00<00:00, 22.18it/s]\n",
      " 92%|#########2| 12/13 [00:00<00:00, 22.60it/s]\n",
      "100%|##########| 13/13 [00:00<00:00, 22.54it/s]\n"
     ]
    },
    {
     "name": "stdout",
     "output_type": "stream",
     "text": [
      "07-14 09:07:37\troc-auc: 0.924\n",
      "07-14 09:07:37\tMCC: 0.668\n",
      "07-14 09:07:37\tprc-auc: 0.846\n",
      "07-14 09:07:37\taccuracy: 0.866\n",
      "07-14 09:07:37\tF1: 0.761\n"
     ]
    },
    {
     "name": "stderr",
     "output_type": "stream",
     "text": [
      "07-14 09:07:37\troc-auc: 0.924\n",
      "07-14 09:07:37\tMCC: 0.668\n",
      "07-14 09:07:37\tprc-auc: 0.846\n",
      "07-14 09:07:37\taccuracy: 0.866\n",
      "07-14 09:07:37\tF1: 0.761\n"
     ]
    },
    {
     "name": "stdout",
     "output_type": "stream",
     "text": [
      "07-14 09:07:47\t\n",
      "07-14 09:07:47\tStart Evaluating on Evaluation Set, EPOCH 26 BATCH 1300\n"
     ]
    },
    {
     "name": "stderr",
     "output_type": "stream",
     "text": [
      "07-14 09:07:47\t\n",
      "07-14 09:07:47\tStart Evaluating on Evaluation Set, EPOCH 26 BATCH 1300\n",
      "  0%|          | 0/13 [00:00<?, ?it/s]\n",
      " 15%|#5        | 2/13 [00:00<00:00, 18.88it/s]\n",
      " 38%|###8      | 5/13 [00:00<00:00, 22.25it/s]\n",
      " 62%|######1   | 8/13 [00:00<00:00, 21.94it/s]\n",
      " 85%|########4 | 11/13 [00:00<00:00, 23.36it/s]\n",
      "100%|##########| 13/13 [00:00<00:00, 22.47it/s]\n"
     ]
    },
    {
     "name": "stdout",
     "output_type": "stream",
     "text": [
      "07-14 09:07:47\troc-auc: 0.920\n",
      "07-14 09:07:47\tMCC: 0.658\n",
      "07-14 09:07:47\tprc-auc: 0.841\n",
      "07-14 09:07:47\taccuracy: 0.871\n",
      "07-14 09:07:47\tF1: 0.726\n",
      "07-14 09:07:47\tModel not improve for 1 Epochs.\n",
      "07-14 09:07:47\tBest roc-auc Now: 0.924\n"
     ]
    },
    {
     "name": "stderr",
     "output_type": "stream",
     "text": [
      "07-14 09:07:47\troc-auc: 0.920\n",
      "07-14 09:07:47\tMCC: 0.658\n",
      "07-14 09:07:47\tprc-auc: 0.841\n",
      "07-14 09:07:47\taccuracy: 0.871\n",
      "07-14 09:07:47\tF1: 0.726\n",
      "07-14 09:07:47\tModel not improve for 1 Epochs.\n",
      "07-14 09:07:47\tBest roc-auc Now: 0.924\n"
     ]
    },
    {
     "name": "stdout",
     "output_type": "stream",
     "text": [
      "07-14 09:07:57\t\n",
      "07-14 09:07:57\tStart Evaluating on Evaluation Set, EPOCH 28 BATCH 1400\n"
     ]
    },
    {
     "name": "stderr",
     "output_type": "stream",
     "text": [
      "07-14 09:07:57\t\n",
      "07-14 09:07:57\tStart Evaluating on Evaluation Set, EPOCH 28 BATCH 1400\n",
      "  0%|          | 0/13 [00:00<?, ?it/s]\n",
      " 23%|##3       | 3/13 [00:00<00:00, 24.52it/s]\n",
      " 46%|####6     | 6/13 [00:00<00:00, 23.19it/s]\n",
      " 69%|######9   | 9/13 [00:00<00:00, 22.55it/s]\n",
      " 92%|#########2| 12/13 [00:00<00:00, 21.79it/s]\n",
      "100%|##########| 13/13 [00:00<00:00, 22.14it/s]\n"
     ]
    },
    {
     "name": "stdout",
     "output_type": "stream",
     "text": [
      "07-14 09:07:58\troc-auc: 0.923\n"
     ]
    },
    {
     "name": "stderr",
     "output_type": "stream",
     "text": [
      "07-14 09:07:58\troc-auc: 0.923\n"
     ]
    },
    {
     "name": "stdout",
     "output_type": "stream",
     "text": [
      "07-14 09:07:58\tMCC: 0.680\n",
      "07-14 09:07:58\tprc-auc: 0.844\n",
      "07-14 09:07:58\taccuracy: 0.876\n",
      "07-14 09:07:58\tF1: 0.762\n",
      "07-14 09:07:58\tModel not improve for 2 Epochs.\n",
      "07-14 09:07:58\tBest roc-auc Now: 0.924\n"
     ]
    },
    {
     "name": "stderr",
     "output_type": "stream",
     "text": [
      "07-14 09:07:58\tMCC: 0.680\n",
      "07-14 09:07:58\tprc-auc: 0.844\n",
      "07-14 09:07:58\taccuracy: 0.876\n",
      "07-14 09:07:58\tF1: 0.762\n",
      "07-14 09:07:58\tModel not improve for 2 Epochs.\n",
      "07-14 09:07:58\tBest roc-auc Now: 0.924\n"
     ]
    },
    {
     "name": "stdout",
     "output_type": "stream",
     "text": [
      "07-14 09:08:05\t\n",
      "07-14 09:08:05\tStart Evaluating on Evaluation Set, EPOCH 30 BATCH 1500\n"
     ]
    },
    {
     "name": "stderr",
     "output_type": "stream",
     "text": [
      "07-14 09:08:05\t\n",
      "07-14 09:08:05\tStart Evaluating on Evaluation Set, EPOCH 30 BATCH 1500\n",
      "  0%|          | 0/13 [00:00<?, ?it/s]\n",
      " 23%|##3       | 3/13 [00:00<00:00, 26.87it/s]\n",
      " 46%|####6     | 6/13 [00:00<00:00, 24.25it/s]\n",
      " 69%|######9   | 9/13 [00:00<00:00, 26.04it/s]\n",
      " 92%|#########2| 12/13 [00:00<00:00, 26.48it/s]\n",
      "100%|##########| 13/13 [00:00<00:00, 26.53it/s]\n"
     ]
    },
    {
     "name": "stdout",
     "output_type": "stream",
     "text": [
      "07-14 09:08:06\troc-auc: 0.918\n",
      "07-14 09:08:06\tMCC: 0.637\n",
      "07-14 09:08:06\tprc-auc: 0.836\n",
      "07-14 09:08:06\taccuracy: 0.864\n",
      "07-14 09:08:06\tF1: 0.699\n",
      "07-14 09:08:06\tModel not improve for 3 Epochs.\n",
      "07-14 09:08:06\tBest roc-auc Now: 0.924\n"
     ]
    },
    {
     "name": "stderr",
     "output_type": "stream",
     "text": [
      "07-14 09:08:06\troc-auc: 0.918\n",
      "07-14 09:08:06\tMCC: 0.637\n",
      "07-14 09:08:06\tprc-auc: 0.836\n",
      "07-14 09:08:06\taccuracy: 0.864\n",
      "07-14 09:08:06\tF1: 0.699\n",
      "07-14 09:08:06\tModel not improve for 3 Epochs.\n",
      "07-14 09:08:06\tBest roc-auc Now: 0.924\n"
     ]
    },
    {
     "name": "stdout",
     "output_type": "stream",
     "text": [
      "07-14 09:08:15\t\n",
      "07-14 09:08:15\tStart Evaluating on Evaluation Set, EPOCH 32 BATCH 1600\n"
     ]
    },
    {
     "name": "stderr",
     "output_type": "stream",
     "text": [
      "07-14 09:08:15\t\n",
      "07-14 09:08:15\tStart Evaluating on Evaluation Set, EPOCH 32 BATCH 1600\n",
      "  0%|          | 0/13 [00:00<?, ?it/s]\n",
      " 23%|##3       | 3/13 [00:00<00:00, 21.90it/s]\n",
      " 46%|####6     | 6/13 [00:00<00:00, 21.66it/s]\n",
      " 69%|######9   | 9/13 [00:00<00:00, 23.30it/s]\n",
      " 92%|#########2| 12/13 [00:00<00:00, 22.58it/s]\n",
      "100%|##########| 13/13 [00:00<00:00, 22.54it/s]\n"
     ]
    },
    {
     "name": "stdout",
     "output_type": "stream",
     "text": [
      "07-14 09:08:15\troc-auc: 0.921\n",
      "07-14 09:08:15\tMCC: 0.670\n",
      "07-14 09:08:15\tprc-auc: 0.850\n",
      "07-14 09:08:15\taccuracy: 0.867\n",
      "07-14 09:08:15\tF1: 0.761\n",
      "07-14 09:08:15\tModel not improve for 4 Epochs.\n",
      "07-14 09:08:15\tBest roc-auc Now: 0.924\n"
     ]
    },
    {
     "name": "stderr",
     "output_type": "stream",
     "text": [
      "07-14 09:08:15\troc-auc: 0.921\n",
      "07-14 09:08:15\tMCC: 0.670\n",
      "07-14 09:08:15\tprc-auc: 0.850\n",
      "07-14 09:08:15\taccuracy: 0.867\n",
      "07-14 09:08:15\tF1: 0.761\n",
      "07-14 09:08:15\tModel not improve for 4 Epochs.\n",
      "07-14 09:08:15\tBest roc-auc Now: 0.924\n"
     ]
    },
    {
     "name": "stdout",
     "output_type": "stream",
     "text": [
      "07-14 09:08:24\t\n",
      "07-14 09:08:24\tStart Evaluating on Evaluation Set, EPOCH 34 BATCH 1700\n"
     ]
    },
    {
     "name": "stderr",
     "output_type": "stream",
     "text": [
      "07-14 09:08:24\t\n",
      "07-14 09:08:24\tStart Evaluating on Evaluation Set, EPOCH 34 BATCH 1700\n",
      "  0%|          | 0/13 [00:00<?, ?it/s]\n",
      " 23%|##3       | 3/13 [00:00<00:00, 21.11it/s]\n",
      " 46%|####6     | 6/13 [00:00<00:00, 23.43it/s]\n",
      " 69%|######9   | 9/13 [00:00<00:00, 23.41it/s]\n",
      " 92%|#########2| 12/13 [00:00<00:00, 22.79it/s]\n",
      "100%|##########| 13/13 [00:00<00:00, 23.15it/s]\n"
     ]
    },
    {
     "name": "stdout",
     "output_type": "stream",
     "text": [
      "07-14 09:08:25\troc-auc: 0.919\n",
      "07-14 09:08:25\tMCC: 0.674\n",
      "07-14 09:08:25\tprc-auc: 0.837\n",
      "07-14 09:08:25\taccuracy: 0.875\n",
      "07-14 09:08:25\tF1: 0.753\n",
      "07-14 09:08:25\tModel not improve for 5 Epochs.\n",
      "07-14 09:08:25\tBest roc-auc Now: 0.924\n"
     ]
    },
    {
     "name": "stderr",
     "output_type": "stream",
     "text": [
      "07-14 09:08:25\troc-auc: 0.919\n",
      "07-14 09:08:25\tMCC: 0.674\n",
      "07-14 09:08:25\tprc-auc: 0.837\n",
      "07-14 09:08:25\taccuracy: 0.875\n",
      "07-14 09:08:25\tF1: 0.753\n",
      "07-14 09:08:25\tModel not improve for 5 Epochs.\n",
      "07-14 09:08:25\tBest roc-auc Now: 0.924\n"
     ]
    },
    {
     "name": "stdout",
     "output_type": "stream",
     "text": [
      "07-14 09:08:35\t\n",
      "07-14 09:08:35\tStart Evaluating on Evaluation Set, EPOCH 36 BATCH 1800\n"
     ]
    },
    {
     "name": "stderr",
     "output_type": "stream",
     "text": [
      "07-14 09:08:35\t\n",
      "07-14 09:08:35\tStart Evaluating on Evaluation Set, EPOCH 36 BATCH 1800\n",
      "  0%|          | 0/13 [00:00<?, ?it/s]\n",
      " 23%|##3       | 3/13 [00:00<00:00, 23.42it/s]\n",
      " 46%|####6     | 6/13 [00:00<00:00, 21.88it/s]\n",
      " 69%|######9   | 9/13 [00:00<00:00, 23.17it/s]\n",
      " 92%|#########2| 12/13 [00:00<00:00, 22.54it/s]\n",
      "100%|##########| 13/13 [00:00<00:00, 22.58it/s]\n"
     ]
    },
    {
     "name": "stdout",
     "output_type": "stream",
     "text": [
      "07-14 09:08:35\troc-auc: 0.918\n",
      "07-14 09:08:35\tMCC: 0.683\n",
      "07-14 09:08:35\tprc-auc: 0.838\n",
      "07-14 09:08:35\taccuracy: 0.873\n",
      "07-14 09:08:35\tF1: 0.770\n",
      "07-14 09:08:35\tModel not improve for 6 Epochs.\n",
      "07-14 09:08:35\tBest roc-auc Now: 0.924\n"
     ]
    },
    {
     "name": "stderr",
     "output_type": "stream",
     "text": [
      "07-14 09:08:35\troc-auc: 0.918\n",
      "07-14 09:08:35\tMCC: 0.683\n",
      "07-14 09:08:35\tprc-auc: 0.838\n",
      "07-14 09:08:35\taccuracy: 0.873\n",
      "07-14 09:08:35\tF1: 0.770\n",
      "07-14 09:08:35\tModel not improve for 6 Epochs.\n",
      "07-14 09:08:35\tBest roc-auc Now: 0.924\n"
     ]
    },
    {
     "name": "stdout",
     "output_type": "stream",
     "text": [
      "07-14 09:08:45\t\n",
      "07-14 09:08:45\tStart Evaluating on Evaluation Set, EPOCH 38 BATCH 1900\n"
     ]
    },
    {
     "name": "stderr",
     "output_type": "stream",
     "text": [
      "07-14 09:08:45\t\n",
      "07-14 09:08:45\tStart Evaluating on Evaluation Set, EPOCH 38 BATCH 1900\n",
      "  0%|          | 0/13 [00:00<?, ?it/s]\n",
      " 23%|##3       | 3/13 [00:00<00:00, 22.15it/s]\n",
      " 46%|####6     | 6/13 [00:00<00:00, 21.47it/s]\n",
      " 69%|######9   | 9/13 [00:00<00:00, 22.73it/s]\n",
      " 92%|#########2| 12/13 [00:00<00:00, 21.96it/s]\n",
      "100%|##########| 13/13 [00:00<00:00, 22.04it/s]\n"
     ]
    },
    {
     "name": "stdout",
     "output_type": "stream",
     "text": [
      "07-14 09:08:45\troc-auc: 0.921\n",
      "07-14 09:08:45\tMCC: 0.677\n"
     ]
    },
    {
     "name": "stderr",
     "output_type": "stream",
     "text": [
      "07-14 09:08:45\troc-auc: 0.921\n",
      "07-14 09:08:45\tMCC: 0.677\n"
     ]
    },
    {
     "name": "stdout",
     "output_type": "stream",
     "text": [
      "07-14 09:08:45\tprc-auc: 0.851\n"
     ]
    },
    {
     "name": "stderr",
     "output_type": "stream",
     "text": [
      "07-14 09:08:45\tprc-auc: 0.851\n"
     ]
    },
    {
     "name": "stdout",
     "output_type": "stream",
     "text": [
      "07-14 09:08:45\taccuracy: 0.875\n",
      "07-14 09:08:45\tF1: 0.759\n",
      "07-14 09:08:45\tModel not improve for 7 Epochs.\n",
      "07-14 09:08:45\tBest roc-auc Now: 0.924\n"
     ]
    },
    {
     "name": "stderr",
     "output_type": "stream",
     "text": [
      "07-14 09:08:45\taccuracy: 0.875\n",
      "07-14 09:08:45\tF1: 0.759\n",
      "07-14 09:08:45\tModel not improve for 7 Epochs.\n",
      "07-14 09:08:45\tBest roc-auc Now: 0.924\n"
     ]
    },
    {
     "name": "stdout",
     "output_type": "stream",
     "text": [
      "07-14 09:08:55\t\n",
      "07-14 09:08:55\tStart Evaluating on Evaluation Set, EPOCH 40 BATCH 2000\n"
     ]
    },
    {
     "name": "stderr",
     "output_type": "stream",
     "text": [
      "07-14 09:08:55\t\n",
      "07-14 09:08:55\tStart Evaluating on Evaluation Set, EPOCH 40 BATCH 2000\n",
      "  0%|          | 0/13 [00:00<?, ?it/s]\n",
      " 23%|##3       | 3/13 [00:00<00:00, 21.24it/s]\n",
      " 46%|####6     | 6/13 [00:00<00:00, 23.09it/s]\n",
      " 69%|######9   | 9/13 [00:00<00:00, 22.41it/s]\n",
      " 92%|#########2| 12/13 [00:00<00:00, 22.54it/s]\n",
      "100%|##########| 13/13 [00:00<00:00, 22.23it/s]\n"
     ]
    },
    {
     "name": "stdout",
     "output_type": "stream",
     "text": [
      "07-14 09:08:55\troc-auc: 0.920\n",
      "07-14 09:08:55\tMCC: 0.664\n",
      "07-14 09:08:55\tprc-auc: 0.842\n",
      "07-14 09:08:55\taccuracy: 0.872\n",
      "07-14 09:08:55\tF1: 0.742\n"
     ]
    },
    {
     "name": "stderr",
     "output_type": "stream",
     "text": [
      "07-14 09:08:55\troc-auc: 0.920\n",
      "07-14 09:08:55\tMCC: 0.664\n",
      "07-14 09:08:55\tprc-auc: 0.842\n",
      "07-14 09:08:55\taccuracy: 0.872\n",
      "07-14 09:08:55\tF1: 0.742\n"
     ]
    },
    {
     "name": "stdout",
     "output_type": "stream",
     "text": [
      "07-14 09:08:55\tModel not improve for 8 Epochs.\n"
     ]
    },
    {
     "name": "stderr",
     "output_type": "stream",
     "text": [
      "07-14 09:08:55\tModel not improve for 8 Epochs.\n"
     ]
    },
    {
     "name": "stdout",
     "output_type": "stream",
     "text": [
      "07-14 09:08:55\tBest roc-auc Now: 0.924\n"
     ]
    },
    {
     "name": "stderr",
     "output_type": "stream",
     "text": [
      "07-14 09:08:55\tBest roc-auc Now: 0.924\n"
     ]
    },
    {
     "name": "stdout",
     "output_type": "stream",
     "text": [
      "07-14 09:09:05\t\n",
      "07-14 09:09:05\tStart Evaluating on Evaluation Set, EPOCH 42 BATCH 2100\n"
     ]
    },
    {
     "name": "stderr",
     "output_type": "stream",
     "text": [
      "07-14 09:09:05\t\n",
      "07-14 09:09:05\tStart Evaluating on Evaluation Set, EPOCH 42 BATCH 2100\n",
      "  0%|          | 0/13 [00:00<?, ?it/s]\n",
      " 23%|##3       | 3/13 [00:00<00:00, 20.53it/s]\n",
      " 46%|####6     | 6/13 [00:00<00:00, 21.62it/s]\n",
      " 69%|######9   | 9/13 [00:00<00:00, 22.62it/s]\n",
      " 92%|#########2| 12/13 [00:00<00:00, 22.39it/s]\n",
      "100%|##########| 13/13 [00:00<00:00, 22.09it/s]\n"
     ]
    },
    {
     "name": "stdout",
     "output_type": "stream",
     "text": [
      "07-14 09:09:05\troc-auc: 0.909\n",
      "07-14 09:09:05\tMCC: 0.662\n",
      "07-14 09:09:05\tprc-auc: 0.828\n",
      "07-14 09:09:05\taccuracy: 0.871\n",
      "07-14 09:09:05\tF1: 0.744\n",
      "07-14 09:09:05\tModel not improve for 9 Epochs.\n",
      "07-14 09:09:05\tBest roc-auc Now: 0.924\n"
     ]
    },
    {
     "name": "stderr",
     "output_type": "stream",
     "text": [
      "07-14 09:09:05\troc-auc: 0.909\n",
      "07-14 09:09:05\tMCC: 0.662\n",
      "07-14 09:09:05\tprc-auc: 0.828\n",
      "07-14 09:09:05\taccuracy: 0.871\n",
      "07-14 09:09:05\tF1: 0.744\n",
      "07-14 09:09:05\tModel not improve for 9 Epochs.\n",
      "07-14 09:09:05\tBest roc-auc Now: 0.924\n"
     ]
    },
    {
     "name": "stdout",
     "output_type": "stream",
     "text": [
      "07-14 09:09:14\t\n",
      "07-14 09:09:14\tStart Evaluating on Evaluation Set, EPOCH 44 BATCH 2200\n"
     ]
    },
    {
     "name": "stderr",
     "output_type": "stream",
     "text": [
      "07-14 09:09:14\t\n",
      "07-14 09:09:14\tStart Evaluating on Evaluation Set, EPOCH 44 BATCH 2200\n",
      "  0%|          | 0/13 [00:00<?, ?it/s]\n",
      " 23%|##3       | 3/13 [00:00<00:00, 21.99it/s]\n",
      " 46%|####6     | 6/13 [00:00<00:00, 22.68it/s]\n",
      " 69%|######9   | 9/13 [00:00<00:00, 23.45it/s]\n",
      " 92%|#########2| 12/13 [00:00<00:00, 22.64it/s]\n",
      "100%|##########| 13/13 [00:00<00:00, 22.73it/s]\n"
     ]
    },
    {
     "name": "stdout",
     "output_type": "stream",
     "text": [
      "07-14 09:09:15\troc-auc: 0.918\n",
      "07-14 09:09:15\tMCC: 0.687\n",
      "07-14 09:09:15\tprc-auc: 0.840\n",
      "07-14 09:09:15\taccuracy: 0.871\n",
      "07-14 09:09:15\tF1: 0.775\n",
      "07-14 09:09:15\tModel not improve for 10 Epochs.\n",
      "07-14 09:09:15\tBest roc-auc Now: 0.924\n"
     ]
    },
    {
     "name": "stderr",
     "output_type": "stream",
     "text": [
      "07-14 09:09:15\troc-auc: 0.918\n",
      "07-14 09:09:15\tMCC: 0.687\n",
      "07-14 09:09:15\tprc-auc: 0.840\n",
      "07-14 09:09:15\taccuracy: 0.871\n",
      "07-14 09:09:15\tF1: 0.775\n",
      "07-14 09:09:15\tModel not improve for 10 Epochs.\n",
      "07-14 09:09:15\tBest roc-auc Now: 0.924\n"
     ]
    },
    {
     "name": "stdout",
     "output_type": "stream",
     "text": [
      "07-14 09:09:24\t\n",
      "07-14 09:09:24\tStart Evaluating on Evaluation Set, EPOCH 46 BATCH 2300\n"
     ]
    },
    {
     "name": "stderr",
     "output_type": "stream",
     "text": [
      "07-14 09:09:24\t\n",
      "07-14 09:09:24\tStart Evaluating on Evaluation Set, EPOCH 46 BATCH 2300\n",
      "  0%|          | 0/13 [00:00<?, ?it/s]\n",
      " 23%|##3       | 3/13 [00:00<00:00, 21.25it/s]\n",
      " 46%|####6     | 6/13 [00:00<00:00, 21.75it/s]\n",
      " 69%|######9   | 9/13 [00:00<00:00, 22.60it/s]\n",
      " 92%|#########2| 12/13 [00:00<00:00, 22.70it/s]\n",
      "100%|##########| 13/13 [00:00<00:00, 22.69it/s]\n"
     ]
    },
    {
     "name": "stdout",
     "output_type": "stream",
     "text": [
      "07-14 09:09:25\troc-auc: 0.915\n",
      "07-14 09:09:25\tMCC: 0.701\n",
      "07-14 09:09:25\tprc-auc: 0.834\n",
      "07-14 09:09:25\taccuracy: 0.885\n",
      "07-14 09:09:25\tF1: 0.776\n",
      "07-14 09:09:25\tModel not improve for 11 Epochs.\n",
      "07-14 09:09:25\tBest roc-auc Now: 0.924\n"
     ]
    },
    {
     "name": "stderr",
     "output_type": "stream",
     "text": [
      "07-14 09:09:25\troc-auc: 0.915\n",
      "07-14 09:09:25\tMCC: 0.701\n",
      "07-14 09:09:25\tprc-auc: 0.834\n",
      "07-14 09:09:25\taccuracy: 0.885\n",
      "07-14 09:09:25\tF1: 0.776\n",
      "07-14 09:09:25\tModel not improve for 11 Epochs.\n",
      "07-14 09:09:25\tBest roc-auc Now: 0.924\n"
     ]
    },
    {
     "name": "stdout",
     "output_type": "stream",
     "text": [
      "07-14 09:09:35\t\n",
      "07-14 09:09:35\tStart Evaluating on Evaluation Set, EPOCH 48 BATCH 2400\n"
     ]
    },
    {
     "name": "stderr",
     "output_type": "stream",
     "text": [
      "07-14 09:09:35\t\n",
      "07-14 09:09:35\tStart Evaluating on Evaluation Set, EPOCH 48 BATCH 2400\n",
      "  0%|          | 0/13 [00:00<?, ?it/s]\n",
      " 23%|##3       | 3/13 [00:00<00:00, 21.55it/s]\n",
      " 46%|####6     | 6/13 [00:00<00:00, 21.68it/s]\n",
      " 69%|######9   | 9/13 [00:00<00:00, 22.86it/s]\n",
      " 92%|#########2| 12/13 [00:00<00:00, 22.23it/s]\n",
      "100%|##########| 13/13 [00:00<00:00, 22.07it/s]\n"
     ]
    },
    {
     "name": "stdout",
     "output_type": "stream",
     "text": [
      "07-14 09:09:35\troc-auc: 0.916\n"
     ]
    },
    {
     "name": "stderr",
     "output_type": "stream",
     "text": [
      "07-14 09:09:35\troc-auc: 0.916\n"
     ]
    },
    {
     "name": "stdout",
     "output_type": "stream",
     "text": [
      "07-14 09:09:35\tMCC: 0.706\n",
      "07-14 09:09:35\tprc-auc: 0.834\n"
     ]
    },
    {
     "name": "stderr",
     "output_type": "stream",
     "text": [
      "07-14 09:09:35\tMCC: 0.706\n",
      "07-14 09:09:35\tprc-auc: 0.834\n",
      "07-14 09:09:35\taccuracy: 0.885\n"
     ]
    },
    {
     "name": "stdout",
     "output_type": "stream",
     "text": [
      "07-14 09:09:35\taccuracy: 0.885\n",
      "07-14 09:09:35\tF1: 0.783\n",
      "07-14 09:09:35\tModel not improve for 12 Epochs.\n",
      "07-14 09:09:35\tBest roc-auc Now: 0.924\n"
     ]
    },
    {
     "name": "stderr",
     "output_type": "stream",
     "text": [
      "07-14 09:09:35\tF1: 0.783\n",
      "07-14 09:09:35\tModel not improve for 12 Epochs.\n",
      "07-14 09:09:35\tBest roc-auc Now: 0.924\n"
     ]
    },
    {
     "name": "stdout",
     "output_type": "stream",
     "text": [
      "07-14 09:09:45\t\n",
      "07-14 09:09:45\tStart Evaluating on Evaluation Set, EPOCH 50 BATCH 2500\n"
     ]
    },
    {
     "name": "stderr",
     "output_type": "stream",
     "text": [
      "07-14 09:09:45\t\n",
      "07-14 09:09:45\tStart Evaluating on Evaluation Set, EPOCH 50 BATCH 2500\n",
      "  0%|          | 0/13 [00:00<?, ?it/s]\n",
      " 23%|##3       | 3/13 [00:00<00:00, 22.11it/s]\n",
      " 46%|####6     | 6/13 [00:00<00:00, 21.81it/s]\n",
      " 69%|######9   | 9/13 [00:00<00:00, 21.62it/s]\n",
      " 92%|#########2| 12/13 [00:00<00:00, 21.67it/s]\n",
      "100%|##########| 13/13 [00:00<00:00, 21.69it/s]\n"
     ]
    },
    {
     "name": "stdout",
     "output_type": "stream",
     "text": [
      "07-14 09:09:45\troc-auc: 0.919\n",
      "07-14 09:09:45\tMCC: 0.698\n",
      "07-14 09:09:45\tprc-auc: 0.845\n",
      "07-14 09:09:45\taccuracy: 0.883\n",
      "07-14 09:09:45\tF1: 0.775\n"
     ]
    },
    {
     "name": "stderr",
     "output_type": "stream",
     "text": [
      "07-14 09:09:45\troc-auc: 0.919\n",
      "07-14 09:09:45\tMCC: 0.698\n",
      "07-14 09:09:45\tprc-auc: 0.845\n",
      "07-14 09:09:45\taccuracy: 0.883\n",
      "07-14 09:09:45\tF1: 0.775\n"
     ]
    },
    {
     "name": "stdout",
     "output_type": "stream",
     "text": [
      "07-14 09:09:45\tModel not improve for 13 Epochs.\n"
     ]
    },
    {
     "name": "stderr",
     "output_type": "stream",
     "text": [
      "07-14 09:09:45\tModel not improve for 13 Epochs.\n"
     ]
    },
    {
     "name": "stdout",
     "output_type": "stream",
     "text": [
      "07-14 09:09:45\tBest roc-auc Now: 0.924\n"
     ]
    },
    {
     "name": "stderr",
     "output_type": "stream",
     "text": [
      "07-14 09:09:45\tBest roc-auc Now: 0.924\n"
     ]
    },
    {
     "name": "stdout",
     "output_type": "stream",
     "text": [
      "07-14 09:09:55\t\n",
      "07-14 09:09:55\tStart Evaluating on Evaluation Set, EPOCH 51 BATCH 2600\n"
     ]
    },
    {
     "name": "stderr",
     "output_type": "stream",
     "text": [
      "07-14 09:09:55\t\n",
      "07-14 09:09:55\tStart Evaluating on Evaluation Set, EPOCH 51 BATCH 2600\n",
      "  0%|          | 0/13 [00:00<?, ?it/s]\n",
      " 23%|##3       | 3/13 [00:00<00:00, 21.09it/s]\n",
      " 46%|####6     | 6/13 [00:00<00:00, 21.81it/s]\n",
      " 69%|######9   | 9/13 [00:00<00:00, 21.48it/s]\n",
      " 92%|#########2| 12/13 [00:00<00:00, 22.29it/s]\n",
      "100%|##########| 13/13 [00:00<00:00, 21.94it/s]\n"
     ]
    },
    {
     "name": "stdout",
     "output_type": "stream",
     "text": [
      "07-14 09:09:56\troc-auc: 0.916\n",
      "07-14 09:09:56\tMCC: 0.688\n",
      "07-14 09:09:56\tprc-auc: 0.833\n",
      "07-14 09:09:56\taccuracy: 0.874\n",
      "07-14 09:09:56\tF1: 0.775\n",
      "07-14 09:09:56\tModel not improve for 14 Epochs.\n",
      "07-14 09:09:56\tBest roc-auc Now: 0.924\n"
     ]
    },
    {
     "name": "stderr",
     "output_type": "stream",
     "text": [
      "07-14 09:09:56\troc-auc: 0.916\n",
      "07-14 09:09:56\tMCC: 0.688\n",
      "07-14 09:09:56\tprc-auc: 0.833\n",
      "07-14 09:09:56\taccuracy: 0.874\n",
      "07-14 09:09:56\tF1: 0.775\n",
      "07-14 09:09:56\tModel not improve for 14 Epochs.\n",
      "07-14 09:09:56\tBest roc-auc Now: 0.924\n"
     ]
    },
    {
     "name": "stdout",
     "output_type": "stream",
     "text": [
      "07-14 09:10:05\t\n",
      "07-14 09:10:05\tStart Evaluating on Evaluation Set, EPOCH 53 BATCH 2700\n"
     ]
    },
    {
     "name": "stderr",
     "output_type": "stream",
     "text": [
      "07-14 09:10:05\t\n",
      "07-14 09:10:05\tStart Evaluating on Evaluation Set, EPOCH 53 BATCH 2700\n",
      "  0%|          | 0/13 [00:00<?, ?it/s]\n",
      " 23%|##3       | 3/13 [00:00<00:00, 21.74it/s]\n",
      " 46%|####6     | 6/13 [00:00<00:00, 23.38it/s]\n",
      " 69%|######9   | 9/13 [00:00<00:00, 22.81it/s]\n",
      " 92%|#########2| 12/13 [00:00<00:00, 22.25it/s]\n",
      "100%|##########| 13/13 [00:00<00:00, 22.43it/s]\n"
     ]
    },
    {
     "name": "stdout",
     "output_type": "stream",
     "text": [
      "07-14 09:10:06\troc-auc: 0.910\n",
      "07-14 09:10:06\tMCC: 0.643\n",
      "07-14 09:10:06\tprc-auc: 0.815\n",
      "07-14 09:10:06\taccuracy: 0.864\n",
      "07-14 09:10:06\tF1: 0.729\n",
      "07-14 09:10:06\tModel not improve for 15 Epochs.\n"
     ]
    },
    {
     "name": "stderr",
     "output_type": "stream",
     "text": [
      "07-14 09:10:06\troc-auc: 0.910\n",
      "07-14 09:10:06\tMCC: 0.643\n",
      "07-14 09:10:06\tprc-auc: 0.815\n",
      "07-14 09:10:06\taccuracy: 0.864\n",
      "07-14 09:10:06\tF1: 0.729\n",
      "07-14 09:10:06\tModel not improve for 15 Epochs.\n"
     ]
    },
    {
     "name": "stdout",
     "output_type": "stream",
     "text": [
      "07-14 09:10:06\tBest roc-auc Now: 0.924\n"
     ]
    },
    {
     "name": "stderr",
     "output_type": "stream",
     "text": [
      "07-14 09:10:06\tBest roc-auc Now: 0.924\n"
     ]
    },
    {
     "name": "stdout",
     "output_type": "stream",
     "text": [
      "07-14 09:10:16\t\n",
      "07-14 09:10:16\tStart Evaluating on Evaluation Set, EPOCH 55 BATCH 2800\n"
     ]
    },
    {
     "name": "stderr",
     "output_type": "stream",
     "text": [
      "07-14 09:10:16\t\n",
      "07-14 09:10:16\tStart Evaluating on Evaluation Set, EPOCH 55 BATCH 2800\n",
      "  0%|          | 0/13 [00:00<?, ?it/s]\n",
      " 23%|##3       | 3/13 [00:00<00:00, 24.55it/s]\n",
      " 46%|####6     | 6/13 [00:00<00:00, 22.70it/s]\n",
      " 69%|######9   | 9/13 [00:00<00:00, 22.25it/s]\n",
      " 92%|#########2| 12/13 [00:00<00:00, 22.54it/s]\n",
      "100%|##########| 13/13 [00:00<00:00, 22.65it/s]\n"
     ]
    },
    {
     "name": "stdout",
     "output_type": "stream",
     "text": [
      "07-14 09:10:16\troc-auc: 0.915\n",
      "07-14 09:10:16\tMCC: 0.702\n",
      "07-14 09:10:16\tprc-auc: 0.844\n",
      "07-14 09:10:16\taccuracy: 0.883\n",
      "07-14 09:10:16\tF1: 0.781\n",
      "07-14 09:10:16\tModel not improve for 16 Epochs.\n",
      "07-14 09:10:16\tBest roc-auc Now: 0.924\n"
     ]
    },
    {
     "name": "stderr",
     "output_type": "stream",
     "text": [
      "07-14 09:10:16\troc-auc: 0.915\n",
      "07-14 09:10:16\tMCC: 0.702\n",
      "07-14 09:10:16\tprc-auc: 0.844\n",
      "07-14 09:10:16\taccuracy: 0.883\n",
      "07-14 09:10:16\tF1: 0.781\n",
      "07-14 09:10:16\tModel not improve for 16 Epochs.\n",
      "07-14 09:10:16\tBest roc-auc Now: 0.924\n"
     ]
    },
    {
     "name": "stdout",
     "output_type": "stream",
     "text": [
      "07-14 09:10:26\t\n",
      "07-14 09:10:26\tStart Evaluating on Evaluation Set, EPOCH 57 BATCH 2900\n"
     ]
    },
    {
     "name": "stderr",
     "output_type": "stream",
     "text": [
      "07-14 09:10:26\t\n",
      "07-14 09:10:26\tStart Evaluating on Evaluation Set, EPOCH 57 BATCH 2900\n",
      "  0%|          | 0/13 [00:00<?, ?it/s]\n",
      " 23%|##3       | 3/13 [00:00<00:00, 21.15it/s]\n",
      " 46%|####6     | 6/13 [00:00<00:00, 21.31it/s]\n",
      " 69%|######9   | 9/13 [00:00<00:00, 21.93it/s]\n",
      " 92%|#########2| 12/13 [00:00<00:00, 21.82it/s]\n",
      "100%|##########| 13/13 [00:00<00:00, 21.33it/s]\n"
     ]
    },
    {
     "name": "stdout",
     "output_type": "stream",
     "text": [
      "07-14 09:10:26\troc-auc: 0.910\n",
      "07-14 09:10:26\tMCC: 0.693\n",
      "07-14 09:10:26\tprc-auc: 0.820\n",
      "07-14 09:10:26\taccuracy: 0.880\n",
      "07-14 09:10:26\tF1: 0.773\n",
      "07-14 09:10:26\tModel not improve for 17 Epochs.\n",
      "07-14 09:10:26\tBest roc-auc Now: 0.924\n"
     ]
    },
    {
     "name": "stderr",
     "output_type": "stream",
     "text": [
      "07-14 09:10:26\troc-auc: 0.910\n",
      "07-14 09:10:26\tMCC: 0.693\n",
      "07-14 09:10:26\tprc-auc: 0.820\n",
      "07-14 09:10:26\taccuracy: 0.880\n",
      "07-14 09:10:26\tF1: 0.773\n",
      "07-14 09:10:26\tModel not improve for 17 Epochs.\n",
      "07-14 09:10:26\tBest roc-auc Now: 0.924\n"
     ]
    },
    {
     "name": "stdout",
     "output_type": "stream",
     "text": [
      "07-14 09:10:36\t\n",
      "07-14 09:10:36\tStart Evaluating on Evaluation Set, EPOCH 59 BATCH 3000\n"
     ]
    },
    {
     "name": "stderr",
     "output_type": "stream",
     "text": [
      "07-14 09:10:36\t\n",
      "07-14 09:10:36\tStart Evaluating on Evaluation Set, EPOCH 59 BATCH 3000\n",
      "  0%|          | 0/13 [00:00<?, ?it/s]\n",
      " 23%|##3       | 3/13 [00:00<00:00, 20.97it/s]\n",
      " 46%|####6     | 6/13 [00:00<00:00, 21.88it/s]\n",
      " 69%|######9   | 9/13 [00:00<00:00, 21.88it/s]\n",
      " 92%|#########2| 12/13 [00:00<00:00, 21.61it/s]\n",
      "100%|##########| 13/13 [00:00<00:00, 21.62it/s]\n"
     ]
    },
    {
     "name": "stdout",
     "output_type": "stream",
     "text": [
      "07-14 09:10:37\troc-auc: 0.910\n",
      "07-14 09:10:37\tMCC: 0.680\n",
      "07-14 09:10:37\tprc-auc: 0.825\n",
      "07-14 09:10:37\taccuracy: 0.877\n",
      "07-14 09:10:37\tF1: 0.761\n"
     ]
    },
    {
     "name": "stderr",
     "output_type": "stream",
     "text": [
      "07-14 09:10:37\troc-auc: 0.910\n",
      "07-14 09:10:37\tMCC: 0.680\n",
      "07-14 09:10:37\tprc-auc: 0.825\n",
      "07-14 09:10:37\taccuracy: 0.877\n",
      "07-14 09:10:37\tF1: 0.761\n",
      "07-14 09:10:37\tModel not improve for 18 Epochs.\n"
     ]
    },
    {
     "name": "stdout",
     "output_type": "stream",
     "text": [
      "07-14 09:10:37\tModel not improve for 18 Epochs.\n",
      "07-14 09:10:37\tBest roc-auc Now: 0.924\n"
     ]
    },
    {
     "name": "stderr",
     "output_type": "stream",
     "text": [
      "07-14 09:10:37\tBest roc-auc Now: 0.924\n"
     ]
    },
    {
     "name": "stdout",
     "output_type": "stream",
     "text": [
      "07-14 09:10:46\t\n",
      "07-14 09:10:46\tStart Evaluating on Evaluation Set, EPOCH 61 BATCH 3100\n"
     ]
    },
    {
     "name": "stderr",
     "output_type": "stream",
     "text": [
      "07-14 09:10:46\t\n",
      "07-14 09:10:46\tStart Evaluating on Evaluation Set, EPOCH 61 BATCH 3100\n",
      "  0%|          | 0/13 [00:00<?, ?it/s]\n",
      " 23%|##3       | 3/13 [00:00<00:00, 20.60it/s]\n",
      " 46%|####6     | 6/13 [00:00<00:00, 21.38it/s]\n",
      " 69%|######9   | 9/13 [00:00<00:00, 21.03it/s]\n",
      " 92%|#########2| 12/13 [00:00<00:00, 21.71it/s]\n",
      "100%|##########| 13/13 [00:00<00:00, 21.61it/s]\n"
     ]
    },
    {
     "name": "stdout",
     "output_type": "stream",
     "text": [
      "07-14 09:10:47\troc-auc: 0.915\n",
      "07-14 09:10:47\tMCC: 0.694\n",
      "07-14 09:10:47\tprc-auc: 0.838\n",
      "07-14 09:10:47\taccuracy: 0.880\n",
      "07-14 09:10:47\tF1: 0.775\n",
      "07-14 09:10:47\tModel not improve for 19 Epochs.\n",
      "07-14 09:10:47\tBest roc-auc Now: 0.924\n"
     ]
    },
    {
     "name": "stderr",
     "output_type": "stream",
     "text": [
      "07-14 09:10:47\troc-auc: 0.915\n",
      "07-14 09:10:47\tMCC: 0.694\n",
      "07-14 09:10:47\tprc-auc: 0.838\n",
      "07-14 09:10:47\taccuracy: 0.880\n",
      "07-14 09:10:47\tF1: 0.775\n",
      "07-14 09:10:47\tModel not improve for 19 Epochs.\n",
      "07-14 09:10:47\tBest roc-auc Now: 0.924\n"
     ]
    },
    {
     "name": "stdout",
     "output_type": "stream",
     "text": [
      "07-14 09:10:56\t\n",
      "07-14 09:10:56\tStart Evaluating on Evaluation Set, EPOCH 63 BATCH 3200\n"
     ]
    },
    {
     "name": "stderr",
     "output_type": "stream",
     "text": [
      "07-14 09:10:56\t\n",
      "07-14 09:10:56\tStart Evaluating on Evaluation Set, EPOCH 63 BATCH 3200\n",
      "  0%|          | 0/13 [00:00<?, ?it/s]\n",
      " 23%|##3       | 3/13 [00:00<00:00, 20.56it/s]\n",
      " 46%|####6     | 6/13 [00:00<00:00, 20.48it/s]\n",
      " 69%|######9   | 9/13 [00:00<00:00, 20.96it/s]\n",
      " 92%|#########2| 12/13 [00:00<00:00, 21.30it/s]\n",
      "100%|##########| 13/13 [00:00<00:00, 21.06it/s]\n"
     ]
    },
    {
     "name": "stdout",
     "output_type": "stream",
     "text": [
      "07-14 09:10:57\troc-auc: 0.921\n",
      "07-14 09:10:57\tMCC: 0.696\n",
      "07-14 09:10:57\tprc-auc: 0.846\n",
      "07-14 09:10:57\taccuracy: 0.882\n",
      "07-14 09:10:57\tF1: 0.776\n",
      "07-14 09:10:57\tModel not improve for 20 Epochs.\n",
      "07-14 09:10:57\tBest roc-auc Now: 0.924\n"
     ]
    },
    {
     "name": "stderr",
     "output_type": "stream",
     "text": [
      "07-14 09:10:57\troc-auc: 0.921\n",
      "07-14 09:10:57\tMCC: 0.696\n",
      "07-14 09:10:57\tprc-auc: 0.846\n",
      "07-14 09:10:57\taccuracy: 0.882\n",
      "07-14 09:10:57\tF1: 0.776\n",
      "07-14 09:10:57\tModel not improve for 20 Epochs.\n",
      "07-14 09:10:57\tBest roc-auc Now: 0.924\n"
     ]
    },
    {
     "name": "stdout",
     "output_type": "stream",
     "text": [
      "07-14 09:11:07\t\n",
      "07-14 09:11:07\tStart Evaluating on Evaluation Set, EPOCH 65 BATCH 3300\n"
     ]
    },
    {
     "name": "stderr",
     "output_type": "stream",
     "text": [
      "07-14 09:11:07\t\n",
      "07-14 09:11:07\tStart Evaluating on Evaluation Set, EPOCH 65 BATCH 3300\n",
      "  0%|          | 0/13 [00:00<?, ?it/s]\n",
      " 15%|#5        | 2/13 [00:00<00:00, 19.74it/s]\n",
      " 38%|###8      | 5/13 [00:00<00:00, 20.74it/s]\n",
      " 62%|######1   | 8/13 [00:00<00:00, 21.10it/s]\n",
      " 85%|########4 | 11/13 [00:00<00:00, 21.50it/s]\n",
      "100%|##########| 13/13 [00:00<00:00, 21.22it/s]\n"
     ]
    },
    {
     "name": "stdout",
     "output_type": "stream",
     "text": [
      "07-14 09:11:07\troc-auc: 0.915\n",
      "07-14 09:11:07\tMCC: 0.706\n",
      "07-14 09:11:07\tprc-auc: 0.837\n",
      "07-14 09:11:07\taccuracy: 0.886\n",
      "07-14 09:11:07\tF1: 0.782\n",
      "07-14 09:11:07\tModel not improve for 21 Epochs.\n",
      "07-14 09:11:07\tBest roc-auc Now: 0.924\n"
     ]
    },
    {
     "name": "stderr",
     "output_type": "stream",
     "text": [
      "07-14 09:11:07\troc-auc: 0.915\n",
      "07-14 09:11:07\tMCC: 0.706\n",
      "07-14 09:11:07\tprc-auc: 0.837\n",
      "07-14 09:11:07\taccuracy: 0.886\n",
      "07-14 09:11:07\tF1: 0.782\n",
      "07-14 09:11:07\tModel not improve for 21 Epochs.\n",
      "07-14 09:11:07\tBest roc-auc Now: 0.924\n"
     ]
    },
    {
     "name": "stdout",
     "output_type": "stream",
     "text": [
      "07-14 09:11:17\t\n",
      "07-14 09:11:17\tStart Evaluating on Evaluation Set, EPOCH 67 BATCH 3400\n"
     ]
    },
    {
     "name": "stderr",
     "output_type": "stream",
     "text": [
      "07-14 09:11:17\t\n",
      "07-14 09:11:17\tStart Evaluating on Evaluation Set, EPOCH 67 BATCH 3400\n",
      "  0%|          | 0/13 [00:00<?, ?it/s]\n",
      " 23%|##3       | 3/13 [00:00<00:00, 20.78it/s]\n",
      " 46%|####6     | 6/13 [00:00<00:00, 21.23it/s]\n",
      " 69%|######9   | 9/13 [00:00<00:00, 21.87it/s]\n",
      " 92%|#########2| 12/13 [00:00<00:00, 22.29it/s]\n",
      "100%|##########| 13/13 [00:00<00:00, 21.92it/s]\n"
     ]
    },
    {
     "name": "stdout",
     "output_type": "stream",
     "text": [
      "07-14 09:11:17\troc-auc: 0.911\n",
      "07-14 09:11:17\tMCC: 0.658\n",
      "07-14 09:11:17\tprc-auc: 0.832\n",
      "07-14 09:11:17\taccuracy: 0.869\n",
      "07-14 09:11:17\tF1: 0.741\n",
      "07-14 09:11:17\tModel not improve for 22 Epochs.\n",
      "07-14 09:11:17\tBest roc-auc Now: 0.924\n"
     ]
    },
    {
     "name": "stderr",
     "output_type": "stream",
     "text": [
      "07-14 09:11:17\troc-auc: 0.911\n",
      "07-14 09:11:17\tMCC: 0.658\n",
      "07-14 09:11:17\tprc-auc: 0.832\n",
      "07-14 09:11:17\taccuracy: 0.869\n",
      "07-14 09:11:17\tF1: 0.741\n",
      "07-14 09:11:17\tModel not improve for 22 Epochs.\n",
      "07-14 09:11:17\tBest roc-auc Now: 0.924\n"
     ]
    },
    {
     "name": "stdout",
     "output_type": "stream",
     "text": [
      "07-14 09:11:27\t\n",
      "07-14 09:11:27\tStart Evaluating on Evaluation Set, EPOCH 69 BATCH 3500\n"
     ]
    },
    {
     "name": "stderr",
     "output_type": "stream",
     "text": [
      "07-14 09:11:27\t\n",
      "07-14 09:11:27\tStart Evaluating on Evaluation Set, EPOCH 69 BATCH 3500\n",
      "  0%|          | 0/13 [00:00<?, ?it/s]\n",
      " 23%|##3       | 3/13 [00:00<00:00, 20.83it/s]\n",
      " 46%|####6     | 6/13 [00:00<00:00, 21.67it/s]\n",
      " 69%|######9   | 9/13 [00:00<00:00, 21.75it/s]\n",
      " 92%|#########2| 12/13 [00:00<00:00, 22.31it/s]\n",
      "100%|##########| 13/13 [00:00<00:00, 22.02it/s]\n"
     ]
    },
    {
     "name": "stdout",
     "output_type": "stream",
     "text": [
      "07-14 09:11:27\troc-auc: 0.908\n",
      "07-14 09:11:27\tMCC: 0.688\n",
      "07-14 09:11:27\tprc-auc: 0.830\n",
      "07-14 09:11:27\taccuracy: 0.879\n",
      "07-14 09:11:27\tF1: 0.769\n",
      "07-14 09:11:27\tModel not improve for 23 Epochs.\n",
      "07-14 09:11:27\tBest roc-auc Now: 0.924\n"
     ]
    },
    {
     "name": "stderr",
     "output_type": "stream",
     "text": [
      "07-14 09:11:27\troc-auc: 0.908\n",
      "07-14 09:11:27\tMCC: 0.688\n",
      "07-14 09:11:27\tprc-auc: 0.830\n",
      "07-14 09:11:27\taccuracy: 0.879\n",
      "07-14 09:11:27\tF1: 0.769\n",
      "07-14 09:11:27\tModel not improve for 23 Epochs.\n",
      "07-14 09:11:27\tBest roc-auc Now: 0.924\n"
     ]
    },
    {
     "name": "stdout",
     "output_type": "stream",
     "text": [
      "07-14 09:11:37\t\n",
      "07-14 09:11:37\tStart Evaluating on Evaluation Set, EPOCH 71 BATCH 3600\n"
     ]
    },
    {
     "name": "stderr",
     "output_type": "stream",
     "text": [
      "07-14 09:11:37\t\n",
      "07-14 09:11:37\tStart Evaluating on Evaluation Set, EPOCH 71 BATCH 3600\n",
      "  0%|          | 0/13 [00:00<?, ?it/s]\n",
      " 23%|##3       | 3/13 [00:00<00:00, 21.01it/s]\n",
      " 46%|####6     | 6/13 [00:00<00:00, 22.13it/s]\n",
      " 69%|######9   | 9/13 [00:00<00:00, 22.23it/s]\n",
      " 92%|#########2| 12/13 [00:00<00:00, 22.15it/s]\n",
      "100%|##########| 13/13 [00:00<00:00, 22.37it/s]\n"
     ]
    },
    {
     "name": "stdout",
     "output_type": "stream",
     "text": [
      "07-14 09:11:38\troc-auc: 0.910\n",
      "07-14 09:11:38\tMCC: 0.705\n",
      "07-14 09:11:38\tprc-auc: 0.829\n",
      "07-14 09:11:38\taccuracy: 0.885\n",
      "07-14 09:11:38\tF1: 0.782\n",
      "07-14 09:11:38\tModel not improve for 24 Epochs.\n",
      "07-14 09:11:38\tBest roc-auc Now: 0.924\n"
     ]
    },
    {
     "name": "stderr",
     "output_type": "stream",
     "text": [
      "07-14 09:11:38\troc-auc: 0.910\n",
      "07-14 09:11:38\tMCC: 0.705\n",
      "07-14 09:11:38\tprc-auc: 0.829\n",
      "07-14 09:11:38\taccuracy: 0.885\n",
      "07-14 09:11:38\tF1: 0.782\n",
      "07-14 09:11:38\tModel not improve for 24 Epochs.\n",
      "07-14 09:11:38\tBest roc-auc Now: 0.924\n"
     ]
    },
    {
     "name": "stdout",
     "output_type": "stream",
     "text": [
      "07-14 09:11:47\t\n",
      "07-14 09:11:47\tStart Evaluating on Evaluation Set, EPOCH 73 BATCH 3700\n"
     ]
    },
    {
     "name": "stderr",
     "output_type": "stream",
     "text": [
      "07-14 09:11:47\t\n",
      "07-14 09:11:47\tStart Evaluating on Evaluation Set, EPOCH 73 BATCH 3700\n",
      "  0%|          | 0/13 [00:00<?, ?it/s]\n",
      " 23%|##3       | 3/13 [00:00<00:00, 21.35it/s]\n",
      " 46%|####6     | 6/13 [00:00<00:00, 22.06it/s]\n",
      " 69%|######9   | 9/13 [00:00<00:00, 22.16it/s]\n",
      " 92%|#########2| 12/13 [00:00<00:00, 23.07it/s]\n",
      "100%|##########| 13/13 [00:00<00:00, 22.58it/s]\n"
     ]
    },
    {
     "name": "stdout",
     "output_type": "stream",
     "text": [
      "07-14 09:11:48\troc-auc: 0.918\n",
      "07-14 09:11:48\tMCC: 0.719\n",
      "07-14 09:11:48\tprc-auc: 0.847\n",
      "07-14 09:11:48\taccuracy: 0.889\n",
      "07-14 09:11:48\tF1: 0.795\n",
      "07-14 09:11:48\tModel not improve for 25 Epochs.\n",
      "07-14 09:11:48\tBest roc-auc Now: 0.924\n"
     ]
    },
    {
     "name": "stderr",
     "output_type": "stream",
     "text": [
      "07-14 09:11:48\troc-auc: 0.918\n",
      "07-14 09:11:48\tMCC: 0.719\n",
      "07-14 09:11:48\tprc-auc: 0.847\n",
      "07-14 09:11:48\taccuracy: 0.889\n",
      "07-14 09:11:48\tF1: 0.795\n",
      "07-14 09:11:48\tModel not improve for 25 Epochs.\n",
      "07-14 09:11:48\tBest roc-auc Now: 0.924\n"
     ]
    },
    {
     "name": "stdout",
     "output_type": "stream",
     "text": [
      "07-14 09:11:57\t\n",
      "07-14 09:11:57\tStart Evaluating on Evaluation Set, EPOCH 75 BATCH 3800\n"
     ]
    },
    {
     "name": "stderr",
     "output_type": "stream",
     "text": [
      "07-14 09:11:57\t\n",
      "07-14 09:11:57\tStart Evaluating on Evaluation Set, EPOCH 75 BATCH 3800\n",
      "  0%|          | 0/13 [00:00<?, ?it/s]\n",
      " 23%|##3       | 3/13 [00:00<00:00, 25.19it/s]\n",
      " 46%|####6     | 6/13 [00:00<00:00, 25.85it/s]\n",
      " 69%|######9   | 9/13 [00:00<00:00, 27.21it/s]\n",
      "100%|##########| 13/13 [00:00<00:00, 28.74it/s]\n",
      "100%|##########| 13/13 [00:00<00:00, 27.70it/s]\n"
     ]
    },
    {
     "name": "stdout",
     "output_type": "stream",
     "text": [
      "07-14 09:11:58\troc-auc: 0.910\n",
      "07-14 09:11:58\tMCC: 0.694\n",
      "07-14 09:11:58\tprc-auc: 0.816\n",
      "07-14 09:11:58\taccuracy: 0.878\n",
      "07-14 09:11:58\tF1: 0.778\n",
      "07-14 09:11:58\tModel not improve for 26 Epochs.\n",
      "07-14 09:11:58\tBest roc-auc Now: 0.924\n"
     ]
    },
    {
     "name": "stderr",
     "output_type": "stream",
     "text": [
      "07-14 09:11:58\troc-auc: 0.910\n",
      "07-14 09:11:58\tMCC: 0.694\n",
      "07-14 09:11:58\tprc-auc: 0.816\n",
      "07-14 09:11:58\taccuracy: 0.878\n",
      "07-14 09:11:58\tF1: 0.778\n",
      "07-14 09:11:58\tModel not improve for 26 Epochs.\n",
      "07-14 09:11:58\tBest roc-auc Now: 0.924\n"
     ]
    },
    {
     "name": "stdout",
     "output_type": "stream",
     "text": [
      "07-14 09:12:07\t\n",
      "07-14 09:12:07\tStart Evaluating on Evaluation Set, EPOCH 77 BATCH 3900\n"
     ]
    },
    {
     "name": "stderr",
     "output_type": "stream",
     "text": [
      "07-14 09:12:07\t\n",
      "07-14 09:12:07\tStart Evaluating on Evaluation Set, EPOCH 77 BATCH 3900\n",
      "  0%|          | 0/13 [00:00<?, ?it/s]\n",
      " 15%|#5        | 2/13 [00:00<00:00, 18.74it/s]\n",
      " 31%|###       | 4/13 [00:00<00:00, 19.16it/s]\n",
      " 54%|#####3    | 7/13 [00:00<00:00, 21.36it/s]\n",
      " 77%|#######6  | 10/13 [00:00<00:00, 21.55it/s]\n",
      "100%|##########| 13/13 [00:00<00:00, 22.20it/s]\n",
      "100%|##########| 13/13 [00:00<00:00, 21.49it/s]\n"
     ]
    },
    {
     "name": "stdout",
     "output_type": "stream",
     "text": [
      "07-14 09:12:08\troc-auc: 0.909\n",
      "07-14 09:12:08\tMCC: 0.690\n",
      "07-14 09:12:08\tprc-auc: 0.830\n",
      "07-14 09:12:08\taccuracy: 0.880\n",
      "07-14 09:12:08\tF1: 0.770\n",
      "07-14 09:12:08\tModel not improve for 27 Epochs.\n",
      "07-14 09:12:08\tBest roc-auc Now: 0.924\n"
     ]
    },
    {
     "name": "stderr",
     "output_type": "stream",
     "text": [
      "07-14 09:12:08\troc-auc: 0.909\n",
      "07-14 09:12:08\tMCC: 0.690\n",
      "07-14 09:12:08\tprc-auc: 0.830\n",
      "07-14 09:12:08\taccuracy: 0.880\n",
      "07-14 09:12:08\tF1: 0.770\n",
      "07-14 09:12:08\tModel not improve for 27 Epochs.\n",
      "07-14 09:12:08\tBest roc-auc Now: 0.924\n"
     ]
    },
    {
     "name": "stdout",
     "output_type": "stream",
     "text": [
      "07-14 09:12:17\t\n",
      "07-14 09:12:17\tStart Evaluating on Evaluation Set, EPOCH 79 BATCH 4000\n"
     ]
    },
    {
     "name": "stderr",
     "output_type": "stream",
     "text": [
      "07-14 09:12:17\t\n",
      "07-14 09:12:17\tStart Evaluating on Evaluation Set, EPOCH 79 BATCH 4000\n",
      "  0%|          | 0/13 [00:00<?, ?it/s]\n",
      " 23%|##3       | 3/13 [00:00<00:00, 21.22it/s]\n",
      " 46%|####6     | 6/13 [00:00<00:00, 21.24it/s]\n",
      " 69%|######9   | 9/13 [00:00<00:00, 22.02it/s]\n",
      " 92%|#########2| 12/13 [00:00<00:00, 22.31it/s]\n",
      "100%|##########| 13/13 [00:00<00:00, 21.92it/s]\n"
     ]
    },
    {
     "name": "stdout",
     "output_type": "stream",
     "text": [
      "07-14 09:12:18\troc-auc: 0.912\n",
      "07-14 09:12:18\tMCC: 0.692\n",
      "07-14 09:12:18\tprc-auc: 0.832\n",
      "07-14 09:12:18\taccuracy: 0.880\n",
      "07-14 09:12:18\tF1: 0.772\n",
      "07-14 09:12:18\tModel not improve for 28 Epochs.\n",
      "07-14 09:12:18\tBest roc-auc Now: 0.924\n"
     ]
    },
    {
     "name": "stderr",
     "output_type": "stream",
     "text": [
      "07-14 09:12:18\troc-auc: 0.912\n",
      "07-14 09:12:18\tMCC: 0.692\n",
      "07-14 09:12:18\tprc-auc: 0.832\n",
      "07-14 09:12:18\taccuracy: 0.880\n",
      "07-14 09:12:18\tF1: 0.772\n",
      "07-14 09:12:18\tModel not improve for 28 Epochs.\n",
      "07-14 09:12:18\tBest roc-auc Now: 0.924\n"
     ]
    },
    {
     "name": "stdout",
     "output_type": "stream",
     "text": [
      "07-14 09:12:27\t\n",
      "07-14 09:12:27\tStart Evaluating on Evaluation Set, EPOCH 81 BATCH 4100\n"
     ]
    },
    {
     "name": "stderr",
     "output_type": "stream",
     "text": [
      "07-14 09:12:27\t\n",
      "07-14 09:12:27\tStart Evaluating on Evaluation Set, EPOCH 81 BATCH 4100\n",
      "  0%|          | 0/13 [00:00<?, ?it/s]\n",
      " 23%|##3       | 3/13 [00:00<00:00, 24.20it/s]\n",
      " 46%|####6     | 6/13 [00:00<00:00, 21.96it/s]\n",
      " 69%|######9   | 9/13 [00:00<00:00, 21.68it/s]\n",
      " 92%|#########2| 12/13 [00:00<00:00, 22.02it/s]\n",
      "100%|##########| 13/13 [00:00<00:00, 22.12it/s]\n"
     ]
    },
    {
     "name": "stdout",
     "output_type": "stream",
     "text": [
      "07-14 09:12:28\troc-auc: 0.914\n",
      "07-14 09:12:28\tMCC: 0.703\n",
      "07-14 09:12:28\tprc-auc: 0.843\n",
      "07-14 09:12:28\taccuracy: 0.885\n",
      "07-14 09:12:28\tF1: 0.780\n",
      "07-14 09:12:28\tModel not improve for 29 Epochs.\n",
      "07-14 09:12:28\tBest roc-auc Now: 0.924\n"
     ]
    },
    {
     "name": "stderr",
     "output_type": "stream",
     "text": [
      "07-14 09:12:28\troc-auc: 0.914\n",
      "07-14 09:12:28\tMCC: 0.703\n",
      "07-14 09:12:28\tprc-auc: 0.843\n",
      "07-14 09:12:28\taccuracy: 0.885\n",
      "07-14 09:12:28\tF1: 0.780\n",
      "07-14 09:12:28\tModel not improve for 29 Epochs.\n",
      "07-14 09:12:28\tBest roc-auc Now: 0.924\n"
     ]
    },
    {
     "name": "stdout",
     "output_type": "stream",
     "text": [
      "07-14 09:12:38\t\n",
      "07-14 09:12:38\tStart Evaluating on Evaluation Set, EPOCH 83 BATCH 4200\n"
     ]
    },
    {
     "name": "stderr",
     "output_type": "stream",
     "text": [
      "07-14 09:12:38\t\n",
      "07-14 09:12:38\tStart Evaluating on Evaluation Set, EPOCH 83 BATCH 4200\n",
      "  0%|          | 0/13 [00:00<?, ?it/s]\n",
      " 23%|##3       | 3/13 [00:00<00:00, 22.26it/s]\n",
      " 46%|####6     | 6/13 [00:00<00:00, 21.75it/s]\n",
      " 69%|######9   | 9/13 [00:00<00:00, 22.20it/s]\n",
      " 92%|#########2| 12/13 [00:00<00:00, 22.43it/s]\n",
      "100%|##########| 13/13 [00:00<00:00, 22.46it/s]\n"
     ]
    },
    {
     "name": "stdout",
     "output_type": "stream",
     "text": [
      "07-14 09:12:38\troc-auc: 0.914\n",
      "07-14 09:12:38\tMCC: 0.716\n",
      "07-14 09:12:38\tprc-auc: 0.848\n",
      "07-14 09:12:38\taccuracy: 0.890\n",
      "07-14 09:12:38\tF1: 0.790\n",
      "07-14 09:12:38\tModel not improve for 30 Epochs.\n",
      "07-14 09:12:38\tBest roc-auc Now: 0.924\n",
      "07-14 09:12:38\tFinish Training.\n",
      "07-14 09:12:38\tBest roc-auc: 0.924\n"
     ]
    },
    {
     "name": "stderr",
     "output_type": "stream",
     "text": [
      "07-14 09:12:38\troc-auc: 0.914\n",
      "07-14 09:12:38\tMCC: 0.716\n",
      "07-14 09:12:38\tprc-auc: 0.848\n",
      "07-14 09:12:38\taccuracy: 0.890\n",
      "07-14 09:12:38\tF1: 0.790\n",
      "07-14 09:12:38\tModel not improve for 30 Epochs.\n",
      "07-14 09:12:38\tBest roc-auc Now: 0.924\n",
      "07-14 09:12:38\tFinish Training.\n",
      "07-14 09:12:38\tBest roc-auc: 0.924\n",
      "job exception: 'list' object has no attribute 'to'\n",
      "\n"
     ]
    },
    {
     "name": "stdout",
     "output_type": "stream",
     "text": [
      "  0%|          | 0/3 [07:26<?, ?trial/s, best loss=?]\n"
     ]
    },
    {
     "ename": "AttributeError",
     "evalue": "'list' object has no attribute 'to'",
     "output_type": "error",
     "traceback": [
      "\u001b[0;31m---------------------------------------------------------------------------\u001b[0m",
      "\u001b[0;31mAttributeError\u001b[0m                            Traceback (most recent call last)",
      "Cell \u001b[0;32mIn[5], line 147\u001b[0m\n\u001b[1;32m    142\u001b[0m     \u001b[39mreturn\u001b[39;00m \u001b[39m-\u001b[39mnp\u001b[39m.\u001b[39mmean(valid_ROC)\n\u001b[1;32m    146\u001b[0m algo \u001b[39m=\u001b[39m partial(tpe\u001b[39m.\u001b[39msuggest, n_startup_jobs\u001b[39m=\u001b[39m\u001b[39m1\u001b[39m)\n\u001b[0;32m--> 147\u001b[0m best \u001b[39m=\u001b[39m fmin(func, SPACE, algo\u001b[39m=\u001b[39;49malgo, max_evals\u001b[39m=\u001b[39;49m\u001b[39m3\u001b[39;49m)  \u001b[39m# best is a dictionary\u001b[39;00m\n\u001b[1;32m    148\u001b[0m json_str \u001b[39m=\u001b[39m json\u001b[39m.\u001b[39mdumps(best, \u001b[39mcls\u001b[39m\u001b[39m=\u001b[39mNpEncoder)  \u001b[39m# using json to turn a dictionary to a str \u001b[39;00m\n\u001b[1;32m    149\u001b[0m logger(json_str)\n",
      "File \u001b[0;32m~/miniconda3/envs/postnet/lib/python3.9/site-packages/hyperopt/fmin.py:586\u001b[0m, in \u001b[0;36mfmin\u001b[0;34m(fn, space, algo, max_evals, timeout, loss_threshold, trials, rstate, allow_trials_fmin, pass_expr_memo_ctrl, catch_eval_exceptions, verbose, return_argmin, points_to_evaluate, max_queue_len, show_progressbar, early_stop_fn, trials_save_file)\u001b[0m\n\u001b[1;32m    583\u001b[0m rval\u001b[39m.\u001b[39mcatch_eval_exceptions \u001b[39m=\u001b[39m catch_eval_exceptions\n\u001b[1;32m    585\u001b[0m \u001b[39m# next line is where the fmin is actually executed\u001b[39;00m\n\u001b[0;32m--> 586\u001b[0m rval\u001b[39m.\u001b[39;49mexhaust()\n\u001b[1;32m    588\u001b[0m \u001b[39mif\u001b[39;00m return_argmin:\n\u001b[1;32m    589\u001b[0m     \u001b[39mif\u001b[39;00m \u001b[39mlen\u001b[39m(trials\u001b[39m.\u001b[39mtrials) \u001b[39m==\u001b[39m \u001b[39m0\u001b[39m:\n",
      "File \u001b[0;32m~/miniconda3/envs/postnet/lib/python3.9/site-packages/hyperopt/fmin.py:364\u001b[0m, in \u001b[0;36mFMinIter.exhaust\u001b[0;34m(self)\u001b[0m\n\u001b[1;32m    362\u001b[0m \u001b[39mdef\u001b[39;00m \u001b[39mexhaust\u001b[39m(\u001b[39mself\u001b[39m):\n\u001b[1;32m    363\u001b[0m     n_done \u001b[39m=\u001b[39m \u001b[39mlen\u001b[39m(\u001b[39mself\u001b[39m\u001b[39m.\u001b[39mtrials)\n\u001b[0;32m--> 364\u001b[0m     \u001b[39mself\u001b[39;49m\u001b[39m.\u001b[39;49mrun(\u001b[39mself\u001b[39;49m\u001b[39m.\u001b[39;49mmax_evals \u001b[39m-\u001b[39;49m n_done, block_until_done\u001b[39m=\u001b[39;49m\u001b[39mself\u001b[39;49m\u001b[39m.\u001b[39;49masynchronous)\n\u001b[1;32m    365\u001b[0m     \u001b[39mself\u001b[39m\u001b[39m.\u001b[39mtrials\u001b[39m.\u001b[39mrefresh()\n\u001b[1;32m    366\u001b[0m     \u001b[39mreturn\u001b[39;00m \u001b[39mself\u001b[39m\n",
      "File \u001b[0;32m~/miniconda3/envs/postnet/lib/python3.9/site-packages/hyperopt/fmin.py:300\u001b[0m, in \u001b[0;36mFMinIter.run\u001b[0;34m(self, N, block_until_done)\u001b[0m\n\u001b[1;32m    297\u001b[0m     time\u001b[39m.\u001b[39msleep(\u001b[39mself\u001b[39m\u001b[39m.\u001b[39mpoll_interval_secs)\n\u001b[1;32m    298\u001b[0m \u001b[39melse\u001b[39;00m:\n\u001b[1;32m    299\u001b[0m     \u001b[39m# -- loop over trials and do the jobs directly\u001b[39;00m\n\u001b[0;32m--> 300\u001b[0m     \u001b[39mself\u001b[39;49m\u001b[39m.\u001b[39;49mserial_evaluate()\n\u001b[1;32m    302\u001b[0m \u001b[39mself\u001b[39m\u001b[39m.\u001b[39mtrials\u001b[39m.\u001b[39mrefresh()\n\u001b[1;32m    303\u001b[0m \u001b[39mif\u001b[39;00m \u001b[39mself\u001b[39m\u001b[39m.\u001b[39mtrials_save_file \u001b[39m!=\u001b[39m \u001b[39m\"\u001b[39m\u001b[39m\"\u001b[39m:\n",
      "File \u001b[0;32m~/miniconda3/envs/postnet/lib/python3.9/site-packages/hyperopt/fmin.py:178\u001b[0m, in \u001b[0;36mFMinIter.serial_evaluate\u001b[0;34m(self, N)\u001b[0m\n\u001b[1;32m    176\u001b[0m ctrl \u001b[39m=\u001b[39m base\u001b[39m.\u001b[39mCtrl(\u001b[39mself\u001b[39m\u001b[39m.\u001b[39mtrials, current_trial\u001b[39m=\u001b[39mtrial)\n\u001b[1;32m    177\u001b[0m \u001b[39mtry\u001b[39;00m:\n\u001b[0;32m--> 178\u001b[0m     result \u001b[39m=\u001b[39m \u001b[39mself\u001b[39;49m\u001b[39m.\u001b[39;49mdomain\u001b[39m.\u001b[39;49mevaluate(spec, ctrl)\n\u001b[1;32m    179\u001b[0m \u001b[39mexcept\u001b[39;00m \u001b[39mException\u001b[39;00m \u001b[39mas\u001b[39;00m e:\n\u001b[1;32m    180\u001b[0m     logger\u001b[39m.\u001b[39merror(\u001b[39m\"\u001b[39m\u001b[39mjob exception: \u001b[39m\u001b[39m%s\u001b[39;00m\u001b[39m\"\u001b[39m \u001b[39m%\u001b[39m \u001b[39mstr\u001b[39m(e))\n",
      "File \u001b[0;32m~/miniconda3/envs/postnet/lib/python3.9/site-packages/hyperopt/base.py:892\u001b[0m, in \u001b[0;36mDomain.evaluate\u001b[0;34m(self, config, ctrl, attach_attachments)\u001b[0m\n\u001b[1;32m    883\u001b[0m \u001b[39melse\u001b[39;00m:\n\u001b[1;32m    884\u001b[0m     \u001b[39m# -- the \"work\" of evaluating `config` can be written\u001b[39;00m\n\u001b[1;32m    885\u001b[0m     \u001b[39m#    either into the pyll part (self.expr)\u001b[39;00m\n\u001b[1;32m    886\u001b[0m     \u001b[39m#    or the normal Python part (self.fn)\u001b[39;00m\n\u001b[1;32m    887\u001b[0m     pyll_rval \u001b[39m=\u001b[39m pyll\u001b[39m.\u001b[39mrec_eval(\n\u001b[1;32m    888\u001b[0m         \u001b[39mself\u001b[39m\u001b[39m.\u001b[39mexpr,\n\u001b[1;32m    889\u001b[0m         memo\u001b[39m=\u001b[39mmemo,\n\u001b[1;32m    890\u001b[0m         print_node_on_error\u001b[39m=\u001b[39m\u001b[39mself\u001b[39m\u001b[39m.\u001b[39mrec_eval_print_node_on_error,\n\u001b[1;32m    891\u001b[0m     )\n\u001b[0;32m--> 892\u001b[0m     rval \u001b[39m=\u001b[39m \u001b[39mself\u001b[39;49m\u001b[39m.\u001b[39;49mfn(pyll_rval)\n\u001b[1;32m    894\u001b[0m \u001b[39mif\u001b[39;00m \u001b[39misinstance\u001b[39m(rval, (\u001b[39mfloat\u001b[39m, \u001b[39mint\u001b[39m, np\u001b[39m.\u001b[39mnumber)):\n\u001b[1;32m    895\u001b[0m     dict_rval \u001b[39m=\u001b[39m {\u001b[39m\"\u001b[39m\u001b[39mloss\u001b[39m\u001b[39m\"\u001b[39m: \u001b[39mfloat\u001b[39m(rval), \u001b[39m\"\u001b[39m\u001b[39mstatus\u001b[39m\u001b[39m\"\u001b[39m: STATUS_OK}\n",
      "Cell \u001b[0;32mIn[5], line 49\u001b[0m, in \u001b[0;36mfunc\u001b[0;34m(hyperparams)\u001b[0m\n\u001b[1;32m     46\u001b[0m test_dataloader  \u001b[39m=\u001b[39m GraphDataLoader(dataset\u001b[39m=\u001b[39mtest_dataset,  collate_fn\u001b[39m=\u001b[39mcollate_fn, batch_size\u001b[39m=\u001b[39m\u001b[39m128\u001b[39m, drop_last\u001b[39m=\u001b[39m\u001b[39mFalse\u001b[39;00m, shuffle\u001b[39m=\u001b[39m\u001b[39mFalse\u001b[39;00m)\n\u001b[1;32m     47\u001b[0m test_dataloader\u001b[39m.\u001b[39msmiles  \u001b[39m=\u001b[39m [[s] \u001b[39mfor\u001b[39;00m s \u001b[39min\u001b[39;00m test_dataset\u001b[39m.\u001b[39msmiles_list]\n\u001b[0;32m---> 49\u001b[0m training_ensemble_models(os\u001b[39m.\u001b[39;49mpath\u001b[39m.\u001b[39;49mjoin(BASESAVEDIR, \u001b[39mf\u001b[39;49m\u001b[39m\"\u001b[39;49m\u001b[39mfold_\u001b[39;49m\u001b[39m{\u001b[39;49;00mi\u001b[39m}\u001b[39;49;00m\u001b[39m\"\u001b[39;49m),\n\u001b[1;32m     50\u001b[0m                          attentivefp,\n\u001b[1;32m     51\u001b[0m                          hyper_args,\n\u001b[1;32m     52\u001b[0m                          train_dataloader,\n\u001b[1;32m     53\u001b[0m                          valid_dataloader\u001b[39m=\u001b[39;49mvalid_dataloader,\n\u001b[1;32m     54\u001b[0m                          test_dataloader\u001b[39m=\u001b[39;49mtest_dataloader,\n\u001b[1;32m     55\u001b[0m                          ensemble_num\u001b[39m=\u001b[39;49m\u001b[39m1\u001b[39;49m)\n\u001b[1;32m     57\u001b[0m test_prediction \u001b[39m=\u001b[39m []\n\u001b[1;32m     59\u001b[0m valid_ROC \u001b[39m=\u001b[39m []\n",
      "File \u001b[0;32m~/myprojects/AttFpPost_trained/src/pipeline/ensemble.py:29\u001b[0m, in \u001b[0;36mtraining_ensemble_models\u001b[0;34m(base_save_dir, model_class, config, train_dataloader, unshuffle_train_dataloader, valid_dataloader, test_dataloader, ensemble_num, scaler_targets)\u001b[0m\n\u001b[1;32m     27\u001b[0m \u001b[39m# fit_on_dataloader() == model.train()\u001b[39;00m\n\u001b[1;32m     28\u001b[0m single_model\u001b[39m.\u001b[39mfit_on_dataloader(train_dataloader, valid_dataloader)\n\u001b[0;32m---> 29\u001b[0m final_model \u001b[39m=\u001b[39m load_checkpoint(os\u001b[39m.\u001b[39;49mpath\u001b[39m.\u001b[39;49mjoin(save_dir, \u001b[39m\"\u001b[39;49m\u001b[39mtrained_model.config\u001b[39;49m\u001b[39m\"\u001b[39;49m), save_dir\u001b[39m=\u001b[39;49msave_dir)\n\u001b[1;32m     31\u001b[0m \u001b[39mif\u001b[39;00m valid_dataloader \u001b[39mis\u001b[39;00m \u001b[39mnot\u001b[39;00m \u001b[39mNone\u001b[39;00m:\n\u001b[1;32m     32\u001b[0m     final_model\u001b[39m.\u001b[39mreport_on_dataloader(valid_dataloader, \u001b[39m\"\u001b[39m\u001b[39mvalid_prediction.csv\u001b[39m\u001b[39m\"\u001b[39m)\n",
      "File \u001b[0;32m~/myprojects/AttFpPost_trained/src/utils/basic/io.py:208\u001b[0m, in \u001b[0;36mload_checkpoint\u001b[0;34m(path, logger, save_dir, to_cpu)\u001b[0m\n\u001b[1;32m    204\u001b[0m     args\u001b[39m.\u001b[39mno_cuda \u001b[39m=\u001b[39m \u001b[39mTrue\u001b[39;00m\n\u001b[1;32m    206\u001b[0m loaded_state_dict \u001b[39m=\u001b[39m state[\u001b[39m'\u001b[39m\u001b[39mstate_dict\u001b[39m\u001b[39m'\u001b[39m]\n\u001b[0;32m--> 208\u001b[0m model \u001b[39m=\u001b[39m select_model(model_type)(args, save_dir\u001b[39m=\u001b[39;49msave_dir)\n\u001b[1;32m    209\u001b[0m model_state_dict \u001b[39m=\u001b[39m model\u001b[39m.\u001b[39mstate_dict()\n\u001b[1;32m    211\u001b[0m \u001b[39m# Skip missing parameters and parameters of mismatched size\u001b[39;00m\n",
      "File \u001b[0;32m~/myprojects/AttFpPost_trained/src/model/attentivefp_postnet.py:23\u001b[0m, in \u001b[0;36mattentivefpPostNet.__init__\u001b[0;34m(self, args, save_dir)\u001b[0m\n\u001b[1;32m     22\u001b[0m \u001b[39mdef\u001b[39;00m \u001b[39m__init__\u001b[39m(\u001b[39mself\u001b[39m, args\u001b[39m=\u001b[39mattentivefpPostNetArgs()\u001b[39m.\u001b[39mparse_args([], known_only\u001b[39m=\u001b[39m\u001b[39mTrue\u001b[39;00m), save_dir\u001b[39m=\u001b[39m\u001b[39mNone\u001b[39;00m):\n\u001b[0;32m---> 23\u001b[0m     \u001b[39msuper\u001b[39;49m(attentivefpPostNet, \u001b[39mself\u001b[39;49m)\u001b[39m.\u001b[39;49m\u001b[39m__init__\u001b[39;49m(args, save_dir\u001b[39m=\u001b[39;49msave_dir)\n",
      "File \u001b[0;32m~/myprojects/AttFpPost_trained/src/model/base.py:27\u001b[0m, in \u001b[0;36mModelBase.__init__\u001b[0;34m(self, config, save_dir)\u001b[0m\n\u001b[1;32m     24\u001b[0m \u001b[39melse\u001b[39;00m:\n\u001b[1;32m     25\u001b[0m     \u001b[39mself\u001b[39m\u001b[39m.\u001b[39mdebug \u001b[39m=\u001b[39m \u001b[39mself\u001b[39m\u001b[39m.\u001b[39minfo \u001b[39m=\u001b[39m \u001b[39mprint\u001b[39m\n\u001b[0;32m---> 27\u001b[0m \u001b[39mself\u001b[39;49m\u001b[39m.\u001b[39;49m_build(config)  \u001b[39m# _build function should only be related with the model structure\u001b[39;00m\n\u001b[1;32m     29\u001b[0m \u001b[39mself\u001b[39m\u001b[39m.\u001b[39mepoch_num \u001b[39m=\u001b[39m \u001b[39m0\u001b[39m\n\u001b[1;32m     30\u001b[0m \u001b[39mself\u001b[39m\u001b[39m.\u001b[39mbatch_num \u001b[39m=\u001b[39m \u001b[39m0\u001b[39m\n",
      "File \u001b[0;32m~/myprojects/AttFpPost_trained/src/model/attentivefp_postnet.py:32\u001b[0m, in \u001b[0;36mattentivefpPostNet._build\u001b[0;34m(self, args)\u001b[0m\n\u001b[1;32m     30\u001b[0m \u001b[39mself\u001b[39m\u001b[39m.\u001b[39mn_density \u001b[39m=\u001b[39m args\u001b[39m.\u001b[39mn_density\n\u001b[1;32m     31\u001b[0m \u001b[39m# self.N              =  torch.nn.Parameter(torch.ones_like(torch.tensor([1., 1.])).to(self.device))\u001b[39;00m\n\u001b[0;32m---> 32\u001b[0m \u001b[39mself\u001b[39m\u001b[39m.\u001b[39mN \u001b[39m=\u001b[39m args\u001b[39m.\u001b[39;49mN\u001b[39m.\u001b[39;49mto(\u001b[39mself\u001b[39m\u001b[39m.\u001b[39mdevice)\n\u001b[1;32m     33\u001b[0m \u001b[39mself\u001b[39m\u001b[39m.\u001b[39mnum_tasks \u001b[39m=\u001b[39m \u001b[39m1\u001b[39m\n\u001b[1;32m     35\u001b[0m \u001b[39mself\u001b[39m\u001b[39m.\u001b[39mcreate_encoder(args)\n",
      "\u001b[0;31mAttributeError\u001b[0m: 'list' object has no attribute 'to'"
     ]
    }
   ],
   "source": [
    "n = 0\n",
    "logger = Writer(os.path.join(SAVEDIR, \"history.log\"))\n",
    "def func(hyperparams):\n",
    "    logger(\" \")\n",
    "    logger(\" \")\n",
    "\n",
    "    global n\n",
    "    n = n+1\n",
    "    logger(f\"ROUND {n}\")\n",
    "\n",
    "    BASESAVEDIR = os.path.join(SAVEDIR, f\"ROUND_{n}\")\n",
    "    logger_writer = Writer(os.path.join(BASESAVEDIR, \"config.txt\"))\n",
    "    for k in hyperparams:\n",
    "        logger_writer(f\"{k}\\t{hyperparams[k]}\")\n",
    "\n",
    "    for key in INT_KEYS:\n",
    "        hyperparams[key] = int(hyperparams[key])\n",
    "\n",
    "    config = attentivefpArgs().parse_args([], known_only=True)\n",
    "    hyper_args = deepcopy(config)\n",
    "\n",
    "    for key, value in hyperparams.items():\n",
    "        setattr(hyper_args, key, value)\n",
    "\n",
    "    setattr(hyper_args, \"dataset_type\", \"classification\")\n",
    "    setattr(hyper_args, 'metric', \"roc-auc\")\n",
    "    setattr(hyper_args, \"extra_metrics\", [\"MCC\", \"prc-auc\", \"accuracy\", \"F1\"])\n",
    "    setattr(hyper_args, \"ffn_hidden_size\", hyper_args.hidden_size)\n",
    "    setattr(hyper_args, \"early_stopping_num\", 30)\n",
    "    setattr(hyper_args, \"gpu\", gpu_num)\n",
    "    setattr(hyper_args, \"log_frequency\", 100)\n",
    "    setattr(hyper_args, \"batch_size\", 128)\n",
    "    setattr(hyper_args, \"at_least_epoch\", 0)\n",
    "    print(hyper_args)\n",
    "\n",
    "    for i in [1, 2, 3, 4, 5]:\n",
    "\n",
    "        train_dataset = MoleculeDataset(os.path.join(DATADIR, f\"{target_name}_train.csv\"))\n",
    "        valid_dataset = MoleculeDataset(os.path.join(DATADIR, f\"{target_name}_valid.csv\"))\n",
    "        test_dataset  = MoleculeDataset(os.path.join(DATADIR, f\"{target_name}_test.csv\"))\n",
    "\n",
    "        train_dataloader = GraphDataLoader(dataset=train_dataset, collate_fn=collate_fn, batch_size=128, drop_last=False, shuffle=True)\n",
    "        train_dataloader.smiles = [[s] for s in train_dataset.smiles_list]\n",
    "        valid_dataloader = GraphDataLoader(dataset=valid_dataset, collate_fn=collate_fn, batch_size=128, drop_last=False, shuffle=False)\n",
    "        valid_dataloader.smiles = [[s] for s in valid_dataset.smiles_list]\n",
    "        test_dataloader  = GraphDataLoader(dataset=test_dataset,  collate_fn=collate_fn, batch_size=128, drop_last=False, shuffle=False)\n",
    "        test_dataloader.smiles  = [[s] for s in test_dataset.smiles_list]\n",
    "\n",
    "        training_ensemble_models(os.path.join(BASESAVEDIR, f\"fold_{i}\"),\n",
    "                                 attentivefp,\n",
    "                                 hyper_args,\n",
    "                                 train_dataloader,\n",
    "                                 valid_dataloader=valid_dataloader,\n",
    "                                 test_dataloader=test_dataloader,\n",
    "                                 ensemble_num=1)\n",
    "        \n",
    "        test_prediction = []\n",
    "        \n",
    "        valid_ROC = []\n",
    "        valid_PRC = []\n",
    "        valid_ACC = []\n",
    "        valid_MCC = []\n",
    "        valid_F1  = []\n",
    "        valid_ECE = []\n",
    "        valid_OFR = []\n",
    "        valid_OFN = []\n",
    "        valid_Brier = []\n",
    "        \n",
    "        test_ROC  = []\n",
    "        test_PRC  = []\n",
    "        test_ACC  = []\n",
    "        test_MCC  = []\n",
    "        test_F1   = []\n",
    "        test_ECE  = []\n",
    "        test_OFR = []\n",
    "        test_OFN = []\n",
    "        test_Brier = []\n",
    "\n",
    "    for i in [1, 2, 3, 4, 5]:\n",
    "    \n",
    "        temp_dir = os.path.join(BASESAVEDIR, f\"fold_{i}\", \"model_0\")\n",
    "        \n",
    "        temp_valid_prediction = pd.read_csv(os.path.join(temp_dir, \"valid_prediction.csv\"))[\"property_pred\"].to_numpy()\n",
    "        temp_valid_label = pd.read_csv(os.path.join(temp_dir, \"valid_prediction.csv\"))[\"property_label\"].to_numpy()\n",
    "        \n",
    "        temp_test_prediction = pd.read_csv(os.path.join(temp_dir, \"test_prediction.csv\"))[\"property_pred\"].to_numpy()\n",
    "        test_label = pd.read_csv(os.path.join(temp_dir, \"test_prediction.csv\"))[\"property_label\"].to_numpy()\n",
    "        test_prediction.append(temp_test_prediction) # for ensemble calculation\n",
    "        \n",
    "        valid_ROC.append(pd.read_csv(os.path.join(temp_dir, \"valid_prediction_performance.csv\"))[\"roc-auc\"].iloc[0])\n",
    "        valid_PRC.append(pd.read_csv(os.path.join(temp_dir, \"valid_prediction_performance.csv\"))[\"prc-auc\"].iloc[0])\n",
    "        valid_ACC.append(pd.read_csv(os.path.join(temp_dir, \"valid_prediction_performance.csv\"))[\"accuracy\"].iloc[0])\n",
    "        valid_MCC.append(pd.read_csv(os.path.join(temp_dir, \"valid_prediction_performance.csv\"))[\"MCC\"].iloc[0])\n",
    "        valid_F1.append(pd.read_csv(os.path.join(temp_dir, \"valid_prediction_performance.csv\"))[\"F1\"].iloc[0])\n",
    "        valid_ECE.append(expected_calibration_error(temp_valid_label, temp_valid_prediction, bins=10))\n",
    "        valid_OFR.append(OverconfidentFalseRate(temp_valid_prediction, temp_valid_label))\n",
    "        valid_OFN.append(OverconfidentFalseNegatives(temp_valid_prediction, temp_valid_label))\n",
    "        valid_Brier.append(Brier(temp_valid_label,temp_valid_prediction))\n",
    "        \n",
    "        test_ROC.append(pd.read_csv(os.path.join(temp_dir, \"test_prediction_performance.csv\"))[\"roc-auc\"].iloc[0])\n",
    "        test_PRC.append(pd.read_csv(os.path.join(temp_dir, \"test_prediction_performance.csv\"))[\"prc-auc\"].iloc[0])\n",
    "        test_ACC.append(pd.read_csv(os.path.join(temp_dir, \"test_prediction_performance.csv\"))[\"accuracy\"].iloc[0])\n",
    "        test_MCC.append(pd.read_csv(os.path.join(temp_dir, \"test_prediction_performance.csv\"))[\"MCC\"].iloc[0])\n",
    "        test_F1.append(pd.read_csv(os.path.join(temp_dir, \"test_prediction_performance.csv\"))[\"F1\"].iloc[0])\n",
    "        test_ECE.append(expected_calibration_error(test_label, temp_test_prediction, bins=10))\n",
    "        test_OFR.append(OverconfidentFalseRate(temp_test_prediction, test_label))\n",
    "        test_OFN.append(OverconfidentFalseNegatives(temp_test_prediction, test_label))\n",
    "        test_Brier.append(Brier(test_label,temp_test_prediction))\n",
    "        \n",
    "\n",
    "    logger(f'ROUND {n} Valid ROC-AUC {np.mean(valid_ROC)} +/- {np.std(valid_ROC)}')\n",
    "    logger(f'ROUND {n} Valid PRC-AUC {np.mean(valid_PRC)} +/- {np.std(valid_PRC)}')\n",
    "    logger(f'ROUND {n} Valid ACC     {np.mean(valid_ACC)} +/- {np.std(valid_ACC)}')\n",
    "    logger(f'ROUND {n} Valid MCC     {np.mean(valid_MCC)} +/- {np.std(valid_MCC)}')\n",
    "    logger(f'ROUND {n} Valid F1      {np.mean(valid_F1)} +/- {np.std(valid_F1)}')\n",
    "    logger(f'ROUND {n} Valid ECE     {np.mean(valid_ECE)} +/- {np.std(valid_ECE)}')\n",
    "    logger(f'ROUND {n} Valid OFR     {np.mean(valid_OFR)} +/- {np.std(valid_OFR)}')\n",
    "    logger(f'ROUND {n} Valid OFN     {np.mean(valid_OFN)} +/- {np.std(valid_OFN)}')\n",
    "    logger(f'ROUND {n} Valid Brier   {np.mean(valid_Brier)} +/- {np.std(valid_Brier)}')\n",
    "    logger(' ')\n",
    "    logger(f'ROUND {n} Test ROC-AUC {np.mean(test_ROC)} +/- {np.std(test_ROC)}')\n",
    "    logger(f'ROUND {n} Test PRC-AUC {np.mean(test_PRC)} +/- {np.std(test_PRC)}')\n",
    "    logger(f'ROUND {n} Test ACC     {np.mean(test_ACC)} +/- {np.std(test_ACC)}')\n",
    "    logger(f'ROUND {n} Test MCC     {np.mean(test_MCC)} +/- {np.std(test_MCC)}')\n",
    "    logger(f'ROUND {n} Test F1      {np.mean(test_F1)} +/- {np.std(test_F1)}')\n",
    "    logger(f'ROUND {n} Test ECE     {np.mean(test_ECE)} +/- {np.std(test_ECE)}')\n",
    "    logger(f'ROUND {n} Test OFR     {np.mean(test_OFR)} +/- {np.std(test_OFR)}')\n",
    "    logger(f'ROUND {n} Test OFN     {np.mean(test_OFN)} +/- {np.std(test_OFN)}')\n",
    "    logger(f'ROUND {n} Test Brier   {np.mean(test_Brier)} +/- {np.std(test_Brier)}')\n",
    "    logger(' ')\n",
    "    logger(f'ROUND {n} Ensemble Test ROC-AUC {roc_auc_score(test_label, np.mean(test_prediction, axis=0))}')\n",
    "    logger(f'ROUND {n} Ensemble Test PRC-AUC {prc_auc(test_label, np.mean(test_prediction, axis=0))}')\n",
    "    logger(f'ROUND {n} Ensemble Test ACC {accuracy(test_label, np.mean(test_prediction, axis=0))}')\n",
    "    logger(f'ROUND {n} Ensemble Test MCC {MCC(test_label, np.mean(test_prediction, axis=0))}')\n",
    "    logger(f'ROUND {n} Ensemble Test F1 {F1(test_label, np.mean(test_prediction, axis=0))}')\n",
    "    logger(f'ROUND {n} Ensemble Test ECE {expected_calibration_error(test_label, np.mean(test_prediction, axis=0), bins=10)}')\n",
    "    logger(f'ROUND {n} Ensemble Test OFR {OverconfidentFalseRate(np.mean(test_prediction, axis=0), test_label)}')\n",
    "    logger(f'ROUND {n} Ensemble Test OFN {OverconfidentFalseNegatives(np.mean(test_prediction, axis=0), test_label)}')\n",
    "    logger(f'ROUND {n} Ensemble Test Brier {Brier(test_label, np.mean(test_prediction, axis=0))}')\n",
    "    logger(' ')\n",
    "\n",
    "    return -np.mean(valid_ROC)\n",
    "\n",
    "\n",
    "\n",
    "algo = partial(tpe.suggest, n_startup_jobs=1)\n",
    "best = fmin(func, SPACE, algo=algo, max_evals=3)  # best is a dictionary\n",
    "json_str = json.dumps(best, cls=NpEncoder)  # using json to turn a dictionary to a str \n",
    "logger(json_str)"
   ]
  },
  {
   "cell_type": "code",
   "execution_count": null,
   "metadata": {},
   "outputs": [],
   "source": []
  }
 ],
 "metadata": {
  "kernelspec": {
   "display_name": "postnet",
   "language": "python",
   "name": "python3"
  },
  "language_info": {
   "codemirror_mode": {
    "name": "ipython",
    "version": 3
   },
   "file_extension": ".py",
   "mimetype": "text/x-python",
   "name": "python",
   "nbconvert_exporter": "python",
   "pygments_lexer": "ipython3",
   "version": "3.9.16"
  },
  "orig_nbformat": 4
 },
 "nbformat": 4,
 "nbformat_minor": 2
}
